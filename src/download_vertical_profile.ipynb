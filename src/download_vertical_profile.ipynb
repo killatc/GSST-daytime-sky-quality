{
 "cells": [
  {
   "cell_type": "code",
   "execution_count": 5,
   "metadata": {},
   "outputs": [],
   "source": [
    "import cdsapi\n",
    "import os"
   ]
  },
  {
   "cell_type": "code",
   "execution_count": 6,
   "metadata": {},
   "outputs": [],
   "source": [
    "out_path = \"/media/edith/TOSHIBA EXT/Reanalysis_ERA5/Vertical_Profile\""
   ]
  },
  {
   "cell_type": "code",
   "execution_count": 7,
   "metadata": {},
   "outputs": [],
   "source": [
    "pressure_levels = [\n",
    "    '1000',\n",
    "    # '975',\n",
    "    # '950',\n",
    "    # '925',\n",
    "    '900',\n",
    "    # '875',\n",
    "    # '850',\n",
    "    # '825',\n",
    "    '800',\n",
    "    # '775',\n",
    "    # '750',\n",
    "    '700',\n",
    "    # '650',\n",
    "    '600',\n",
    "    # '550',\n",
    "    '500',\n",
    "    # '450',\n",
    "    '400',\n",
    "    # '350',\n",
    "    '300',\n",
    "    # '250',\n",
    "    # '225',\n",
    "    '200',\n",
    "    # '175',\n",
    "    # '150',\n",
    "    # '125',\n",
    "    '100',\n",
    "    # '70',\n",
    "    # '50',\n",
    "    # '30',\n",
    "    # '20',\n",
    "    # '10',\n",
    "    # '7',\n",
    "    # '5',\n",
    "    # '3',\n",
    "    # '2',\n",
    "    '1'\n",
    "]\n",
    "\n",
    "all_years = [\n",
    "    ['1999', '2000', '2001', '2002', '2003'],\n",
    "    ['2004', '2005', '2006', '2007', '2008'],\n",
    "    ['2009', '2010', '2011', '2012', '2013'],\n",
    "    ['2014', '2015', '2016', '2017', '2018'],\n",
    "    ['2019', '2020', '2021', '2022', '2023']\n",
    "]\n",
    "\n",
    "variables = [\n",
    "    'geopotential', \n",
    "    'relative_humidity', \n",
    "    'temperature', \n",
    "    'u_component_of_wind', \n",
    "    'v_component_of_wind',\n",
    "    'specific_humidity'\n",
    "]"
   ]
  },
  {
   "cell_type": "code",
   "execution_count": 8,
   "metadata": {},
   "outputs": [
    {
     "name": "stdout",
     "output_type": "stream",
     "text": [
      "Downloading geopotential at 1000 hPa for ['1999', '2000', '2001', '2002', '2003']...\n",
      "File /media/edith/TOSHIBA EXT/Reanalysis_ERA5/Vertical_Profile/geopotential_1000hPa_['1999', '2000', '2001', '2002', '2003'].nc already exists. Skipping...\n",
      "Downloading relative_humidity at 1000 hPa for ['1999', '2000', '2001', '2002', '2003']...\n",
      "File /media/edith/TOSHIBA EXT/Reanalysis_ERA5/Vertical_Profile/relative_humidity_1000hPa_['1999', '2000', '2001', '2002', '2003'].nc already exists. Skipping...\n",
      "Downloading temperature at 1000 hPa for ['1999', '2000', '2001', '2002', '2003']...\n",
      "File /media/edith/TOSHIBA EXT/Reanalysis_ERA5/Vertical_Profile/temperature_1000hPa_['1999', '2000', '2001', '2002', '2003'].nc already exists. Skipping...\n",
      "Downloading u_component_of_wind at 1000 hPa for ['1999', '2000', '2001', '2002', '2003']...\n",
      "File /media/edith/TOSHIBA EXT/Reanalysis_ERA5/Vertical_Profile/u_component_of_wind_1000hPa_['1999', '2000', '2001', '2002', '2003'].nc already exists. Skipping...\n",
      "Downloading v_component_of_wind at 1000 hPa for ['1999', '2000', '2001', '2002', '2003']...\n",
      "File /media/edith/TOSHIBA EXT/Reanalysis_ERA5/Vertical_Profile/v_component_of_wind_1000hPa_['1999', '2000', '2001', '2002', '2003'].nc already exists. Skipping...\n",
      "Downloading specific_humidity at 1000 hPa for ['1999', '2000', '2001', '2002', '2003']...\n",
      "File /media/edith/TOSHIBA EXT/Reanalysis_ERA5/Vertical_Profile/specific_humidity_1000hPa_['1999', '2000', '2001', '2002', '2003'].nc already exists. Skipping...\n",
      "Downloading geopotential at 1000 hPa for ['2004', '2005', '2006', '2007', '2008']...\n",
      "File /media/edith/TOSHIBA EXT/Reanalysis_ERA5/Vertical_Profile/geopotential_1000hPa_['2004', '2005', '2006', '2007', '2008'].nc already exists. Skipping...\n",
      "Downloading relative_humidity at 1000 hPa for ['2004', '2005', '2006', '2007', '2008']...\n",
      "File /media/edith/TOSHIBA EXT/Reanalysis_ERA5/Vertical_Profile/relative_humidity_1000hPa_['2004', '2005', '2006', '2007', '2008'].nc already exists. Skipping...\n",
      "Downloading temperature at 1000 hPa for ['2004', '2005', '2006', '2007', '2008']...\n",
      "File /media/edith/TOSHIBA EXT/Reanalysis_ERA5/Vertical_Profile/temperature_1000hPa_['2004', '2005', '2006', '2007', '2008'].nc already exists. Skipping...\n",
      "Downloading u_component_of_wind at 1000 hPa for ['2004', '2005', '2006', '2007', '2008']...\n",
      "File /media/edith/TOSHIBA EXT/Reanalysis_ERA5/Vertical_Profile/u_component_of_wind_1000hPa_['2004', '2005', '2006', '2007', '2008'].nc already exists. Skipping...\n",
      "Downloading v_component_of_wind at 1000 hPa for ['2004', '2005', '2006', '2007', '2008']...\n",
      "File /media/edith/TOSHIBA EXT/Reanalysis_ERA5/Vertical_Profile/v_component_of_wind_1000hPa_['2004', '2005', '2006', '2007', '2008'].nc already exists. Skipping...\n",
      "Downloading specific_humidity at 1000 hPa for ['2004', '2005', '2006', '2007', '2008']...\n",
      "File /media/edith/TOSHIBA EXT/Reanalysis_ERA5/Vertical_Profile/specific_humidity_1000hPa_['2004', '2005', '2006', '2007', '2008'].nc already exists. Skipping...\n",
      "Downloading geopotential at 1000 hPa for ['2009', '2010', '2011', '2012', '2013']...\n",
      "File /media/edith/TOSHIBA EXT/Reanalysis_ERA5/Vertical_Profile/geopotential_1000hPa_['2009', '2010', '2011', '2012', '2013'].nc already exists. Skipping...\n",
      "Downloading relative_humidity at 1000 hPa for ['2009', '2010', '2011', '2012', '2013']...\n",
      "File /media/edith/TOSHIBA EXT/Reanalysis_ERA5/Vertical_Profile/relative_humidity_1000hPa_['2009', '2010', '2011', '2012', '2013'].nc already exists. Skipping...\n",
      "Downloading temperature at 1000 hPa for ['2009', '2010', '2011', '2012', '2013']...\n",
      "File /media/edith/TOSHIBA EXT/Reanalysis_ERA5/Vertical_Profile/temperature_1000hPa_['2009', '2010', '2011', '2012', '2013'].nc already exists. Skipping...\n",
      "Downloading u_component_of_wind at 1000 hPa for ['2009', '2010', '2011', '2012', '2013']...\n",
      "File /media/edith/TOSHIBA EXT/Reanalysis_ERA5/Vertical_Profile/u_component_of_wind_1000hPa_['2009', '2010', '2011', '2012', '2013'].nc already exists. Skipping...\n",
      "Downloading v_component_of_wind at 1000 hPa for ['2009', '2010', '2011', '2012', '2013']...\n",
      "File /media/edith/TOSHIBA EXT/Reanalysis_ERA5/Vertical_Profile/v_component_of_wind_1000hPa_['2009', '2010', '2011', '2012', '2013'].nc already exists. Skipping...\n",
      "Downloading specific_humidity at 1000 hPa for ['2009', '2010', '2011', '2012', '2013']...\n",
      "File /media/edith/TOSHIBA EXT/Reanalysis_ERA5/Vertical_Profile/specific_humidity_1000hPa_['2009', '2010', '2011', '2012', '2013'].nc already exists. Skipping...\n",
      "Downloading geopotential at 1000 hPa for ['2014', '2015', '2016', '2017', '2018']...\n",
      "File /media/edith/TOSHIBA EXT/Reanalysis_ERA5/Vertical_Profile/geopotential_1000hPa_['2014', '2015', '2016', '2017', '2018'].nc already exists. Skipping...\n",
      "Downloading relative_humidity at 1000 hPa for ['2014', '2015', '2016', '2017', '2018']...\n",
      "File /media/edith/TOSHIBA EXT/Reanalysis_ERA5/Vertical_Profile/relative_humidity_1000hPa_['2014', '2015', '2016', '2017', '2018'].nc already exists. Skipping...\n",
      "Downloading temperature at 1000 hPa for ['2014', '2015', '2016', '2017', '2018']...\n",
      "File /media/edith/TOSHIBA EXT/Reanalysis_ERA5/Vertical_Profile/temperature_1000hPa_['2014', '2015', '2016', '2017', '2018'].nc already exists. Skipping...\n",
      "Downloading u_component_of_wind at 1000 hPa for ['2014', '2015', '2016', '2017', '2018']...\n",
      "File /media/edith/TOSHIBA EXT/Reanalysis_ERA5/Vertical_Profile/u_component_of_wind_1000hPa_['2014', '2015', '2016', '2017', '2018'].nc already exists. Skipping...\n",
      "Downloading v_component_of_wind at 1000 hPa for ['2014', '2015', '2016', '2017', '2018']...\n",
      "File /media/edith/TOSHIBA EXT/Reanalysis_ERA5/Vertical_Profile/v_component_of_wind_1000hPa_['2014', '2015', '2016', '2017', '2018'].nc already exists. Skipping...\n",
      "Downloading specific_humidity at 1000 hPa for ['2014', '2015', '2016', '2017', '2018']...\n",
      "File /media/edith/TOSHIBA EXT/Reanalysis_ERA5/Vertical_Profile/specific_humidity_1000hPa_['2014', '2015', '2016', '2017', '2018'].nc already exists. Skipping...\n",
      "Downloading geopotential at 1000 hPa for ['2019', '2020', '2021', '2022', '2023']...\n",
      "File /media/edith/TOSHIBA EXT/Reanalysis_ERA5/Vertical_Profile/geopotential_1000hPa_['2019', '2020', '2021', '2022', '2023'].nc already exists. Skipping...\n",
      "Downloading relative_humidity at 1000 hPa for ['2019', '2020', '2021', '2022', '2023']...\n",
      "File /media/edith/TOSHIBA EXT/Reanalysis_ERA5/Vertical_Profile/relative_humidity_1000hPa_['2019', '2020', '2021', '2022', '2023'].nc already exists. Skipping...\n",
      "Downloading temperature at 1000 hPa for ['2019', '2020', '2021', '2022', '2023']...\n",
      "File /media/edith/TOSHIBA EXT/Reanalysis_ERA5/Vertical_Profile/temperature_1000hPa_['2019', '2020', '2021', '2022', '2023'].nc already exists. Skipping...\n",
      "Downloading u_component_of_wind at 1000 hPa for ['2019', '2020', '2021', '2022', '2023']...\n",
      "File /media/edith/TOSHIBA EXT/Reanalysis_ERA5/Vertical_Profile/u_component_of_wind_1000hPa_['2019', '2020', '2021', '2022', '2023'].nc already exists. Skipping...\n",
      "Downloading v_component_of_wind at 1000 hPa for ['2019', '2020', '2021', '2022', '2023']...\n",
      "File /media/edith/TOSHIBA EXT/Reanalysis_ERA5/Vertical_Profile/v_component_of_wind_1000hPa_['2019', '2020', '2021', '2022', '2023'].nc already exists. Skipping...\n",
      "Downloading specific_humidity at 1000 hPa for ['2019', '2020', '2021', '2022', '2023']...\n",
      "File /media/edith/TOSHIBA EXT/Reanalysis_ERA5/Vertical_Profile/specific_humidity_1000hPa_['2019', '2020', '2021', '2022', '2023'].nc already exists. Skipping...\n",
      "Downloading geopotential at 900 hPa for ['1999', '2000', '2001', '2002', '2003']...\n",
      "File /media/edith/TOSHIBA EXT/Reanalysis_ERA5/Vertical_Profile/geopotential_900hPa_['1999', '2000', '2001', '2002', '2003'].nc already exists. Skipping...\n",
      "Downloading relative_humidity at 900 hPa for ['1999', '2000', '2001', '2002', '2003']...\n",
      "File /media/edith/TOSHIBA EXT/Reanalysis_ERA5/Vertical_Profile/relative_humidity_900hPa_['1999', '2000', '2001', '2002', '2003'].nc already exists. Skipping...\n",
      "Downloading temperature at 900 hPa for ['1999', '2000', '2001', '2002', '2003']...\n",
      "File /media/edith/TOSHIBA EXT/Reanalysis_ERA5/Vertical_Profile/temperature_900hPa_['1999', '2000', '2001', '2002', '2003'].nc already exists. Skipping...\n",
      "Downloading u_component_of_wind at 900 hPa for ['1999', '2000', '2001', '2002', '2003']...\n",
      "File /media/edith/TOSHIBA EXT/Reanalysis_ERA5/Vertical_Profile/u_component_of_wind_900hPa_['1999', '2000', '2001', '2002', '2003'].nc already exists. Skipping...\n",
      "Downloading v_component_of_wind at 900 hPa for ['1999', '2000', '2001', '2002', '2003']...\n",
      "File /media/edith/TOSHIBA EXT/Reanalysis_ERA5/Vertical_Profile/v_component_of_wind_900hPa_['1999', '2000', '2001', '2002', '2003'].nc already exists. Skipping...\n",
      "Downloading specific_humidity at 900 hPa for ['1999', '2000', '2001', '2002', '2003']...\n",
      "File /media/edith/TOSHIBA EXT/Reanalysis_ERA5/Vertical_Profile/specific_humidity_900hPa_['1999', '2000', '2001', '2002', '2003'].nc already exists. Skipping...\n",
      "Downloading geopotential at 900 hPa for ['2004', '2005', '2006', '2007', '2008']...\n",
      "File /media/edith/TOSHIBA EXT/Reanalysis_ERA5/Vertical_Profile/geopotential_900hPa_['2004', '2005', '2006', '2007', '2008'].nc already exists. Skipping...\n",
      "Downloading relative_humidity at 900 hPa for ['2004', '2005', '2006', '2007', '2008']...\n",
      "File /media/edith/TOSHIBA EXT/Reanalysis_ERA5/Vertical_Profile/relative_humidity_900hPa_['2004', '2005', '2006', '2007', '2008'].nc already exists. Skipping...\n",
      "Downloading temperature at 900 hPa for ['2004', '2005', '2006', '2007', '2008']...\n",
      "File /media/edith/TOSHIBA EXT/Reanalysis_ERA5/Vertical_Profile/temperature_900hPa_['2004', '2005', '2006', '2007', '2008'].nc already exists. Skipping...\n",
      "Downloading u_component_of_wind at 900 hPa for ['2004', '2005', '2006', '2007', '2008']...\n",
      "File /media/edith/TOSHIBA EXT/Reanalysis_ERA5/Vertical_Profile/u_component_of_wind_900hPa_['2004', '2005', '2006', '2007', '2008'].nc already exists. Skipping...\n",
      "Downloading v_component_of_wind at 900 hPa for ['2004', '2005', '2006', '2007', '2008']...\n",
      "File /media/edith/TOSHIBA EXT/Reanalysis_ERA5/Vertical_Profile/v_component_of_wind_900hPa_['2004', '2005', '2006', '2007', '2008'].nc already exists. Skipping...\n",
      "Downloading specific_humidity at 900 hPa for ['2004', '2005', '2006', '2007', '2008']...\n",
      "File /media/edith/TOSHIBA EXT/Reanalysis_ERA5/Vertical_Profile/specific_humidity_900hPa_['2004', '2005', '2006', '2007', '2008'].nc already exists. Skipping...\n",
      "Downloading geopotential at 900 hPa for ['2009', '2010', '2011', '2012', '2013']...\n",
      "File /media/edith/TOSHIBA EXT/Reanalysis_ERA5/Vertical_Profile/geopotential_900hPa_['2009', '2010', '2011', '2012', '2013'].nc already exists. Skipping...\n",
      "Downloading relative_humidity at 900 hPa for ['2009', '2010', '2011', '2012', '2013']...\n",
      "File /media/edith/TOSHIBA EXT/Reanalysis_ERA5/Vertical_Profile/relative_humidity_900hPa_['2009', '2010', '2011', '2012', '2013'].nc already exists. Skipping...\n",
      "Downloading temperature at 900 hPa for ['2009', '2010', '2011', '2012', '2013']...\n",
      "File /media/edith/TOSHIBA EXT/Reanalysis_ERA5/Vertical_Profile/temperature_900hPa_['2009', '2010', '2011', '2012', '2013'].nc already exists. Skipping...\n",
      "Downloading u_component_of_wind at 900 hPa for ['2009', '2010', '2011', '2012', '2013']...\n",
      "File /media/edith/TOSHIBA EXT/Reanalysis_ERA5/Vertical_Profile/u_component_of_wind_900hPa_['2009', '2010', '2011', '2012', '2013'].nc already exists. Skipping...\n",
      "Downloading v_component_of_wind at 900 hPa for ['2009', '2010', '2011', '2012', '2013']...\n",
      "File /media/edith/TOSHIBA EXT/Reanalysis_ERA5/Vertical_Profile/v_component_of_wind_900hPa_['2009', '2010', '2011', '2012', '2013'].nc already exists. Skipping...\n",
      "Downloading specific_humidity at 900 hPa for ['2009', '2010', '2011', '2012', '2013']...\n",
      "File /media/edith/TOSHIBA EXT/Reanalysis_ERA5/Vertical_Profile/specific_humidity_900hPa_['2009', '2010', '2011', '2012', '2013'].nc already exists. Skipping...\n",
      "Downloading geopotential at 900 hPa for ['2014', '2015', '2016', '2017', '2018']...\n",
      "File /media/edith/TOSHIBA EXT/Reanalysis_ERA5/Vertical_Profile/geopotential_900hPa_['2014', '2015', '2016', '2017', '2018'].nc already exists. Skipping...\n",
      "Downloading relative_humidity at 900 hPa for ['2014', '2015', '2016', '2017', '2018']...\n",
      "File /media/edith/TOSHIBA EXT/Reanalysis_ERA5/Vertical_Profile/relative_humidity_900hPa_['2014', '2015', '2016', '2017', '2018'].nc already exists. Skipping...\n",
      "Downloading temperature at 900 hPa for ['2014', '2015', '2016', '2017', '2018']...\n",
      "File /media/edith/TOSHIBA EXT/Reanalysis_ERA5/Vertical_Profile/temperature_900hPa_['2014', '2015', '2016', '2017', '2018'].nc already exists. Skipping...\n",
      "Downloading u_component_of_wind at 900 hPa for ['2014', '2015', '2016', '2017', '2018']...\n",
      "File /media/edith/TOSHIBA EXT/Reanalysis_ERA5/Vertical_Profile/u_component_of_wind_900hPa_['2014', '2015', '2016', '2017', '2018'].nc already exists. Skipping...\n",
      "Downloading v_component_of_wind at 900 hPa for ['2014', '2015', '2016', '2017', '2018']...\n",
      "File /media/edith/TOSHIBA EXT/Reanalysis_ERA5/Vertical_Profile/v_component_of_wind_900hPa_['2014', '2015', '2016', '2017', '2018'].nc already exists. Skipping...\n",
      "Downloading specific_humidity at 900 hPa for ['2014', '2015', '2016', '2017', '2018']...\n",
      "File /media/edith/TOSHIBA EXT/Reanalysis_ERA5/Vertical_Profile/specific_humidity_900hPa_['2014', '2015', '2016', '2017', '2018'].nc already exists. Skipping...\n",
      "Downloading geopotential at 900 hPa for ['2019', '2020', '2021', '2022', '2023']...\n",
      "File /media/edith/TOSHIBA EXT/Reanalysis_ERA5/Vertical_Profile/geopotential_900hPa_['2019', '2020', '2021', '2022', '2023'].nc already exists. Skipping...\n",
      "Downloading relative_humidity at 900 hPa for ['2019', '2020', '2021', '2022', '2023']...\n",
      "File /media/edith/TOSHIBA EXT/Reanalysis_ERA5/Vertical_Profile/relative_humidity_900hPa_['2019', '2020', '2021', '2022', '2023'].nc already exists. Skipping...\n",
      "Downloading temperature at 900 hPa for ['2019', '2020', '2021', '2022', '2023']...\n",
      "File /media/edith/TOSHIBA EXT/Reanalysis_ERA5/Vertical_Profile/temperature_900hPa_['2019', '2020', '2021', '2022', '2023'].nc already exists. Skipping...\n",
      "Downloading u_component_of_wind at 900 hPa for ['2019', '2020', '2021', '2022', '2023']...\n",
      "File /media/edith/TOSHIBA EXT/Reanalysis_ERA5/Vertical_Profile/u_component_of_wind_900hPa_['2019', '2020', '2021', '2022', '2023'].nc already exists. Skipping...\n",
      "Downloading v_component_of_wind at 900 hPa for ['2019', '2020', '2021', '2022', '2023']...\n",
      "File /media/edith/TOSHIBA EXT/Reanalysis_ERA5/Vertical_Profile/v_component_of_wind_900hPa_['2019', '2020', '2021', '2022', '2023'].nc already exists. Skipping...\n",
      "Downloading specific_humidity at 900 hPa for ['2019', '2020', '2021', '2022', '2023']...\n",
      "File /media/edith/TOSHIBA EXT/Reanalysis_ERA5/Vertical_Profile/specific_humidity_900hPa_['2019', '2020', '2021', '2022', '2023'].nc already exists. Skipping...\n",
      "Downloading geopotential at 800 hPa for ['1999', '2000', '2001', '2002', '2003']...\n",
      "File /media/edith/TOSHIBA EXT/Reanalysis_ERA5/Vertical_Profile/geopotential_800hPa_['1999', '2000', '2001', '2002', '2003'].nc already exists. Skipping...\n",
      "Downloading relative_humidity at 800 hPa for ['1999', '2000', '2001', '2002', '2003']...\n",
      "File /media/edith/TOSHIBA EXT/Reanalysis_ERA5/Vertical_Profile/relative_humidity_800hPa_['1999', '2000', '2001', '2002', '2003'].nc already exists. Skipping...\n",
      "Downloading temperature at 800 hPa for ['1999', '2000', '2001', '2002', '2003']...\n",
      "File /media/edith/TOSHIBA EXT/Reanalysis_ERA5/Vertical_Profile/temperature_800hPa_['1999', '2000', '2001', '2002', '2003'].nc already exists. Skipping...\n",
      "Downloading u_component_of_wind at 800 hPa for ['1999', '2000', '2001', '2002', '2003']...\n",
      "File /media/edith/TOSHIBA EXT/Reanalysis_ERA5/Vertical_Profile/u_component_of_wind_800hPa_['1999', '2000', '2001', '2002', '2003'].nc already exists. Skipping...\n",
      "Downloading v_component_of_wind at 800 hPa for ['1999', '2000', '2001', '2002', '2003']...\n",
      "File /media/edith/TOSHIBA EXT/Reanalysis_ERA5/Vertical_Profile/v_component_of_wind_800hPa_['1999', '2000', '2001', '2002', '2003'].nc already exists. Skipping...\n",
      "Downloading specific_humidity at 800 hPa for ['1999', '2000', '2001', '2002', '2003']...\n",
      "File /media/edith/TOSHIBA EXT/Reanalysis_ERA5/Vertical_Profile/specific_humidity_800hPa_['1999', '2000', '2001', '2002', '2003'].nc already exists. Skipping...\n",
      "Downloading geopotential at 800 hPa for ['2004', '2005', '2006', '2007', '2008']...\n",
      "File /media/edith/TOSHIBA EXT/Reanalysis_ERA5/Vertical_Profile/geopotential_800hPa_['2004', '2005', '2006', '2007', '2008'].nc already exists. Skipping...\n",
      "Downloading relative_humidity at 800 hPa for ['2004', '2005', '2006', '2007', '2008']...\n",
      "File /media/edith/TOSHIBA EXT/Reanalysis_ERA5/Vertical_Profile/relative_humidity_800hPa_['2004', '2005', '2006', '2007', '2008'].nc already exists. Skipping...\n",
      "Downloading temperature at 800 hPa for ['2004', '2005', '2006', '2007', '2008']...\n",
      "File /media/edith/TOSHIBA EXT/Reanalysis_ERA5/Vertical_Profile/temperature_800hPa_['2004', '2005', '2006', '2007', '2008'].nc already exists. Skipping...\n",
      "Downloading u_component_of_wind at 800 hPa for ['2004', '2005', '2006', '2007', '2008']...\n",
      "File /media/edith/TOSHIBA EXT/Reanalysis_ERA5/Vertical_Profile/u_component_of_wind_800hPa_['2004', '2005', '2006', '2007', '2008'].nc already exists. Skipping...\n",
      "Downloading v_component_of_wind at 800 hPa for ['2004', '2005', '2006', '2007', '2008']...\n",
      "File /media/edith/TOSHIBA EXT/Reanalysis_ERA5/Vertical_Profile/v_component_of_wind_800hPa_['2004', '2005', '2006', '2007', '2008'].nc already exists. Skipping...\n",
      "Downloading specific_humidity at 800 hPa for ['2004', '2005', '2006', '2007', '2008']...\n",
      "File /media/edith/TOSHIBA EXT/Reanalysis_ERA5/Vertical_Profile/specific_humidity_800hPa_['2004', '2005', '2006', '2007', '2008'].nc already exists. Skipping...\n",
      "Downloading geopotential at 800 hPa for ['2009', '2010', '2011', '2012', '2013']...\n",
      "File /media/edith/TOSHIBA EXT/Reanalysis_ERA5/Vertical_Profile/geopotential_800hPa_['2009', '2010', '2011', '2012', '2013'].nc already exists. Skipping...\n",
      "Downloading relative_humidity at 800 hPa for ['2009', '2010', '2011', '2012', '2013']...\n",
      "File /media/edith/TOSHIBA EXT/Reanalysis_ERA5/Vertical_Profile/relative_humidity_800hPa_['2009', '2010', '2011', '2012', '2013'].nc already exists. Skipping...\n",
      "Downloading temperature at 800 hPa for ['2009', '2010', '2011', '2012', '2013']...\n",
      "File /media/edith/TOSHIBA EXT/Reanalysis_ERA5/Vertical_Profile/temperature_800hPa_['2009', '2010', '2011', '2012', '2013'].nc already exists. Skipping...\n",
      "Downloading u_component_of_wind at 800 hPa for ['2009', '2010', '2011', '2012', '2013']...\n",
      "File /media/edith/TOSHIBA EXT/Reanalysis_ERA5/Vertical_Profile/u_component_of_wind_800hPa_['2009', '2010', '2011', '2012', '2013'].nc already exists. Skipping...\n",
      "Downloading v_component_of_wind at 800 hPa for ['2009', '2010', '2011', '2012', '2013']...\n",
      "File /media/edith/TOSHIBA EXT/Reanalysis_ERA5/Vertical_Profile/v_component_of_wind_800hPa_['2009', '2010', '2011', '2012', '2013'].nc already exists. Skipping...\n",
      "Downloading specific_humidity at 800 hPa for ['2009', '2010', '2011', '2012', '2013']...\n",
      "File /media/edith/TOSHIBA EXT/Reanalysis_ERA5/Vertical_Profile/specific_humidity_800hPa_['2009', '2010', '2011', '2012', '2013'].nc already exists. Skipping...\n",
      "Downloading geopotential at 800 hPa for ['2014', '2015', '2016', '2017', '2018']...\n",
      "File /media/edith/TOSHIBA EXT/Reanalysis_ERA5/Vertical_Profile/geopotential_800hPa_['2014', '2015', '2016', '2017', '2018'].nc already exists. Skipping...\n",
      "Downloading relative_humidity at 800 hPa for ['2014', '2015', '2016', '2017', '2018']...\n",
      "File /media/edith/TOSHIBA EXT/Reanalysis_ERA5/Vertical_Profile/relative_humidity_800hPa_['2014', '2015', '2016', '2017', '2018'].nc already exists. Skipping...\n",
      "Downloading temperature at 800 hPa for ['2014', '2015', '2016', '2017', '2018']...\n",
      "File /media/edith/TOSHIBA EXT/Reanalysis_ERA5/Vertical_Profile/temperature_800hPa_['2014', '2015', '2016', '2017', '2018'].nc already exists. Skipping...\n",
      "Downloading u_component_of_wind at 800 hPa for ['2014', '2015', '2016', '2017', '2018']...\n",
      "File /media/edith/TOSHIBA EXT/Reanalysis_ERA5/Vertical_Profile/u_component_of_wind_800hPa_['2014', '2015', '2016', '2017', '2018'].nc already exists. Skipping...\n",
      "Downloading v_component_of_wind at 800 hPa for ['2014', '2015', '2016', '2017', '2018']...\n",
      "File /media/edith/TOSHIBA EXT/Reanalysis_ERA5/Vertical_Profile/v_component_of_wind_800hPa_['2014', '2015', '2016', '2017', '2018'].nc already exists. Skipping...\n",
      "Downloading specific_humidity at 800 hPa for ['2014', '2015', '2016', '2017', '2018']...\n",
      "File /media/edith/TOSHIBA EXT/Reanalysis_ERA5/Vertical_Profile/specific_humidity_800hPa_['2014', '2015', '2016', '2017', '2018'].nc already exists. Skipping...\n",
      "Downloading geopotential at 800 hPa for ['2019', '2020', '2021', '2022', '2023']...\n",
      "File /media/edith/TOSHIBA EXT/Reanalysis_ERA5/Vertical_Profile/geopotential_800hPa_['2019', '2020', '2021', '2022', '2023'].nc already exists. Skipping...\n",
      "Downloading relative_humidity at 800 hPa for ['2019', '2020', '2021', '2022', '2023']...\n",
      "File /media/edith/TOSHIBA EXT/Reanalysis_ERA5/Vertical_Profile/relative_humidity_800hPa_['2019', '2020', '2021', '2022', '2023'].nc already exists. Skipping...\n",
      "Downloading temperature at 800 hPa for ['2019', '2020', '2021', '2022', '2023']...\n",
      "File /media/edith/TOSHIBA EXT/Reanalysis_ERA5/Vertical_Profile/temperature_800hPa_['2019', '2020', '2021', '2022', '2023'].nc already exists. Skipping...\n",
      "Downloading u_component_of_wind at 800 hPa for ['2019', '2020', '2021', '2022', '2023']...\n",
      "File /media/edith/TOSHIBA EXT/Reanalysis_ERA5/Vertical_Profile/u_component_of_wind_800hPa_['2019', '2020', '2021', '2022', '2023'].nc already exists. Skipping...\n",
      "Downloading v_component_of_wind at 800 hPa for ['2019', '2020', '2021', '2022', '2023']...\n",
      "File /media/edith/TOSHIBA EXT/Reanalysis_ERA5/Vertical_Profile/v_component_of_wind_800hPa_['2019', '2020', '2021', '2022', '2023'].nc already exists. Skipping...\n",
      "Downloading specific_humidity at 800 hPa for ['2019', '2020', '2021', '2022', '2023']...\n",
      "File /media/edith/TOSHIBA EXT/Reanalysis_ERA5/Vertical_Profile/specific_humidity_800hPa_['2019', '2020', '2021', '2022', '2023'].nc already exists. Skipping...\n",
      "Downloading geopotential at 700 hPa for ['1999', '2000', '2001', '2002', '2003']...\n",
      "File /media/edith/TOSHIBA EXT/Reanalysis_ERA5/Vertical_Profile/geopotential_700hPa_['1999', '2000', '2001', '2002', '2003'].nc already exists. Skipping...\n",
      "Downloading relative_humidity at 700 hPa for ['1999', '2000', '2001', '2002', '2003']...\n",
      "File /media/edith/TOSHIBA EXT/Reanalysis_ERA5/Vertical_Profile/relative_humidity_700hPa_['1999', '2000', '2001', '2002', '2003'].nc already exists. Skipping...\n",
      "Downloading temperature at 700 hPa for ['1999', '2000', '2001', '2002', '2003']...\n",
      "File /media/edith/TOSHIBA EXT/Reanalysis_ERA5/Vertical_Profile/temperature_700hPa_['1999', '2000', '2001', '2002', '2003'].nc already exists. Skipping...\n",
      "Downloading u_component_of_wind at 700 hPa for ['1999', '2000', '2001', '2002', '2003']...\n",
      "File /media/edith/TOSHIBA EXT/Reanalysis_ERA5/Vertical_Profile/u_component_of_wind_700hPa_['1999', '2000', '2001', '2002', '2003'].nc already exists. Skipping...\n",
      "Downloading v_component_of_wind at 700 hPa for ['1999', '2000', '2001', '2002', '2003']...\n",
      "File /media/edith/TOSHIBA EXT/Reanalysis_ERA5/Vertical_Profile/v_component_of_wind_700hPa_['1999', '2000', '2001', '2002', '2003'].nc already exists. Skipping...\n",
      "Downloading specific_humidity at 700 hPa for ['1999', '2000', '2001', '2002', '2003']...\n",
      "File /media/edith/TOSHIBA EXT/Reanalysis_ERA5/Vertical_Profile/specific_humidity_700hPa_['1999', '2000', '2001', '2002', '2003'].nc already exists. Skipping...\n",
      "Downloading geopotential at 700 hPa for ['2004', '2005', '2006', '2007', '2008']...\n",
      "File /media/edith/TOSHIBA EXT/Reanalysis_ERA5/Vertical_Profile/geopotential_700hPa_['2004', '2005', '2006', '2007', '2008'].nc already exists. Skipping...\n",
      "Downloading relative_humidity at 700 hPa for ['2004', '2005', '2006', '2007', '2008']...\n",
      "File /media/edith/TOSHIBA EXT/Reanalysis_ERA5/Vertical_Profile/relative_humidity_700hPa_['2004', '2005', '2006', '2007', '2008'].nc already exists. Skipping...\n",
      "Downloading temperature at 700 hPa for ['2004', '2005', '2006', '2007', '2008']...\n",
      "File /media/edith/TOSHIBA EXT/Reanalysis_ERA5/Vertical_Profile/temperature_700hPa_['2004', '2005', '2006', '2007', '2008'].nc already exists. Skipping...\n",
      "Downloading u_component_of_wind at 700 hPa for ['2004', '2005', '2006', '2007', '2008']...\n",
      "File /media/edith/TOSHIBA EXT/Reanalysis_ERA5/Vertical_Profile/u_component_of_wind_700hPa_['2004', '2005', '2006', '2007', '2008'].nc already exists. Skipping...\n",
      "Downloading v_component_of_wind at 700 hPa for ['2004', '2005', '2006', '2007', '2008']...\n",
      "File /media/edith/TOSHIBA EXT/Reanalysis_ERA5/Vertical_Profile/v_component_of_wind_700hPa_['2004', '2005', '2006', '2007', '2008'].nc already exists. Skipping...\n",
      "Downloading specific_humidity at 700 hPa for ['2004', '2005', '2006', '2007', '2008']...\n",
      "File /media/edith/TOSHIBA EXT/Reanalysis_ERA5/Vertical_Profile/specific_humidity_700hPa_['2004', '2005', '2006', '2007', '2008'].nc already exists. Skipping...\n",
      "Downloading geopotential at 700 hPa for ['2009', '2010', '2011', '2012', '2013']...\n",
      "File /media/edith/TOSHIBA EXT/Reanalysis_ERA5/Vertical_Profile/geopotential_700hPa_['2009', '2010', '2011', '2012', '2013'].nc already exists. Skipping...\n",
      "Downloading relative_humidity at 700 hPa for ['2009', '2010', '2011', '2012', '2013']...\n",
      "File /media/edith/TOSHIBA EXT/Reanalysis_ERA5/Vertical_Profile/relative_humidity_700hPa_['2009', '2010', '2011', '2012', '2013'].nc already exists. Skipping...\n",
      "Downloading temperature at 700 hPa for ['2009', '2010', '2011', '2012', '2013']...\n",
      "File /media/edith/TOSHIBA EXT/Reanalysis_ERA5/Vertical_Profile/temperature_700hPa_['2009', '2010', '2011', '2012', '2013'].nc already exists. Skipping...\n",
      "Downloading u_component_of_wind at 700 hPa for ['2009', '2010', '2011', '2012', '2013']...\n",
      "File /media/edith/TOSHIBA EXT/Reanalysis_ERA5/Vertical_Profile/u_component_of_wind_700hPa_['2009', '2010', '2011', '2012', '2013'].nc already exists. Skipping...\n",
      "Downloading v_component_of_wind at 700 hPa for ['2009', '2010', '2011', '2012', '2013']...\n",
      "File /media/edith/TOSHIBA EXT/Reanalysis_ERA5/Vertical_Profile/v_component_of_wind_700hPa_['2009', '2010', '2011', '2012', '2013'].nc already exists. Skipping...\n",
      "Downloading specific_humidity at 700 hPa for ['2009', '2010', '2011', '2012', '2013']...\n",
      "File /media/edith/TOSHIBA EXT/Reanalysis_ERA5/Vertical_Profile/specific_humidity_700hPa_['2009', '2010', '2011', '2012', '2013'].nc already exists. Skipping...\n",
      "Downloading geopotential at 700 hPa for ['2014', '2015', '2016', '2017', '2018']...\n",
      "File /media/edith/TOSHIBA EXT/Reanalysis_ERA5/Vertical_Profile/geopotential_700hPa_['2014', '2015', '2016', '2017', '2018'].nc already exists. Skipping...\n",
      "Downloading relative_humidity at 700 hPa for ['2014', '2015', '2016', '2017', '2018']...\n",
      "File /media/edith/TOSHIBA EXT/Reanalysis_ERA5/Vertical_Profile/relative_humidity_700hPa_['2014', '2015', '2016', '2017', '2018'].nc already exists. Skipping...\n",
      "Downloading temperature at 700 hPa for ['2014', '2015', '2016', '2017', '2018']...\n",
      "File /media/edith/TOSHIBA EXT/Reanalysis_ERA5/Vertical_Profile/temperature_700hPa_['2014', '2015', '2016', '2017', '2018'].nc already exists. Skipping...\n",
      "Downloading u_component_of_wind at 700 hPa for ['2014', '2015', '2016', '2017', '2018']...\n",
      "File /media/edith/TOSHIBA EXT/Reanalysis_ERA5/Vertical_Profile/u_component_of_wind_700hPa_['2014', '2015', '2016', '2017', '2018'].nc already exists. Skipping...\n",
      "Downloading v_component_of_wind at 700 hPa for ['2014', '2015', '2016', '2017', '2018']...\n",
      "File /media/edith/TOSHIBA EXT/Reanalysis_ERA5/Vertical_Profile/v_component_of_wind_700hPa_['2014', '2015', '2016', '2017', '2018'].nc already exists. Skipping...\n",
      "Downloading specific_humidity at 700 hPa for ['2014', '2015', '2016', '2017', '2018']...\n",
      "File /media/edith/TOSHIBA EXT/Reanalysis_ERA5/Vertical_Profile/specific_humidity_700hPa_['2014', '2015', '2016', '2017', '2018'].nc already exists. Skipping...\n",
      "Downloading geopotential at 700 hPa for ['2019', '2020', '2021', '2022', '2023']...\n",
      "File /media/edith/TOSHIBA EXT/Reanalysis_ERA5/Vertical_Profile/geopotential_700hPa_['2019', '2020', '2021', '2022', '2023'].nc already exists. Skipping...\n",
      "Downloading relative_humidity at 700 hPa for ['2019', '2020', '2021', '2022', '2023']...\n"
     ]
    },
    {
     "name": "stderr",
     "output_type": "stream",
     "text": [
      "2024-06-30 18:38:19,000 INFO Welcome to the CDS\n",
      "2024-06-30 18:38:19,001 INFO Sending request to https://cds.climate.copernicus.eu/api/v2/resources/reanalysis-era5-pressure-levels\n",
      "2024-06-30 18:38:19,303 INFO Request is completed\n",
      "2024-06-30 18:38:19,305 INFO Downloading https://download-0013-clone.copernicus-climate.eu/cache-compute-0013/cache/data7/adaptor.mars.internal-1719778597.447598-30371-3-5489d47f-ff2a-4398-b3ee-3af065ccae71.nc to /media/edith/TOSHIBA EXT/Reanalysis_ERA5/Vertical_Profile/relative_humidity_700hPa_['2019', '2020', '2021', '2022', '2023'].nc (343.5K)\n",
      "2024-06-30 18:38:22,287 INFO Download rate 115.3K/s\n"
     ]
    },
    {
     "name": "stdout",
     "output_type": "stream",
     "text": [
      "Downloading temperature at 700 hPa for ['2019', '2020', '2021', '2022', '2023']...\n"
     ]
    },
    {
     "name": "stderr",
     "output_type": "stream",
     "text": [
      "2024-06-30 18:38:22,988 INFO Welcome to the CDS\n",
      "2024-06-30 18:38:22,990 INFO Sending request to https://cds.climate.copernicus.eu/api/v2/resources/reanalysis-era5-pressure-levels\n",
      "2024-06-30 18:38:23,295 INFO Request is queued\n",
      "2024-06-30 19:37:16,741 INFO Request is running\n",
      "2024-06-30 20:31:49,565 INFO Request is completed\n",
      "2024-06-30 20:31:49,567 INFO Downloading https://download-0008-clone.copernicus-climate.eu/cache-compute-0008/cache/data2/adaptor.mars.internal-1719789912.0076778-20762-9-1420d465-bda0-4103-b9d8-0bf0f2afda56.nc to /media/edith/TOSHIBA EXT/Reanalysis_ERA5/Vertical_Profile/temperature_700hPa_['2019', '2020', '2021', '2022', '2023'].nc (343.5K)\n",
      "2024-06-30 20:31:52,862 INFO Download rate 104.3K/s\n"
     ]
    },
    {
     "name": "stdout",
     "output_type": "stream",
     "text": [
      "Downloading u_component_of_wind at 700 hPa for ['2019', '2020', '2021', '2022', '2023']...\n"
     ]
    },
    {
     "name": "stderr",
     "output_type": "stream",
     "text": [
      "2024-06-30 20:31:53,454 INFO Welcome to the CDS\n",
      "2024-06-30 20:31:53,456 INFO Sending request to https://cds.climate.copernicus.eu/api/v2/resources/reanalysis-era5-pressure-levels\n",
      "2024-06-30 20:31:53,868 INFO Request is queued\n",
      "2024-06-30 20:31:55,193 INFO Request is running\n",
      "2024-06-30 21:30:55,498 INFO Request is completed\n",
      "2024-06-30 21:30:55,499 INFO Downloading https://download-0004-clone.copernicus-climate.eu/cache-compute-0004/cache/data5/adaptor.mars.internal-1719793367.5132952-8779-11-a96f1273-83ce-4d85-b686-4c4554ddbd03.nc to /media/edith/TOSHIBA EXT/Reanalysis_ERA5/Vertical_Profile/u_component_of_wind_700hPa_['2019', '2020', '2021', '2022', '2023'].nc (343.5K)\n",
      "2024-06-30 21:31:09,461 INFO Download rate 24.6K/s \n"
     ]
    },
    {
     "name": "stdout",
     "output_type": "stream",
     "text": [
      "Downloading v_component_of_wind at 700 hPa for ['2019', '2020', '2021', '2022', '2023']...\n"
     ]
    },
    {
     "name": "stderr",
     "output_type": "stream",
     "text": [
      "2024-06-30 21:31:10,144 INFO Welcome to the CDS\n",
      "2024-06-30 21:31:10,144 INFO Sending request to https://cds.climate.copernicus.eu/api/v2/resources/reanalysis-era5-pressure-levels\n",
      "2024-06-30 21:31:10,457 INFO Request is queued\n",
      "2024-06-30 21:31:11,779 INFO Request is running\n",
      "2024-06-30 22:28:03,262 INFO Request is completed\n",
      "2024-06-30 22:28:03,264 INFO Downloading https://download-0013-clone.copernicus-climate.eu/cache-compute-0013/cache/data9/adaptor.mars.internal-1719796914.0185378-8880-10-03b19e05-4653-431e-89a9-e27fe4d99e3e.nc to /media/edith/TOSHIBA EXT/Reanalysis_ERA5/Vertical_Profile/v_component_of_wind_700hPa_['2019', '2020', '2021', '2022', '2023'].nc (343.5K)\n",
      "2024-06-30 22:28:06,635 INFO Download rate 102K/s  \n"
     ]
    },
    {
     "name": "stdout",
     "output_type": "stream",
     "text": [
      "Downloading specific_humidity at 700 hPa for ['2019', '2020', '2021', '2022', '2023']...\n"
     ]
    },
    {
     "name": "stderr",
     "output_type": "stream",
     "text": [
      "2024-06-30 22:28:07,246 INFO Welcome to the CDS\n",
      "2024-06-30 22:28:07,247 INFO Sending request to https://cds.climate.copernicus.eu/api/v2/resources/reanalysis-era5-pressure-levels\n",
      "2024-06-30 22:28:07,549 INFO Request is queued\n",
      "2024-06-30 22:28:08,877 INFO Request is running\n",
      "2024-06-30 23:29:02,666 INFO Request is completed\n",
      "2024-06-30 23:29:02,666 INFO Downloading https://download-0002-clone.copernicus-climate.eu/cache-compute-0002/cache/data8/adaptor.mars.internal-1719800367.0650494-9743-7-8619bfc6-b544-4f71-8510-dbfe4d02786f.nc to /media/edith/TOSHIBA EXT/Reanalysis_ERA5/Vertical_Profile/specific_humidity_700hPa_['2019', '2020', '2021', '2022', '2023'].nc (343.5K)\n",
      "2024-06-30 23:29:05,438 INFO Download rate 123.9K/s\n"
     ]
    },
    {
     "name": "stdout",
     "output_type": "stream",
     "text": [
      "Downloading geopotential at 600 hPa for ['1999', '2000', '2001', '2002', '2003']...\n",
      "File /media/edith/TOSHIBA EXT/Reanalysis_ERA5/Vertical_Profile/geopotential_600hPa_['1999', '2000', '2001', '2002', '2003'].nc already exists. Skipping...\n",
      "Downloading relative_humidity at 600 hPa for ['1999', '2000', '2001', '2002', '2003']...\n",
      "File /media/edith/TOSHIBA EXT/Reanalysis_ERA5/Vertical_Profile/relative_humidity_600hPa_['1999', '2000', '2001', '2002', '2003'].nc already exists. Skipping...\n",
      "Downloading temperature at 600 hPa for ['1999', '2000', '2001', '2002', '2003']...\n",
      "File /media/edith/TOSHIBA EXT/Reanalysis_ERA5/Vertical_Profile/temperature_600hPa_['1999', '2000', '2001', '2002', '2003'].nc already exists. Skipping...\n",
      "Downloading u_component_of_wind at 600 hPa for ['1999', '2000', '2001', '2002', '2003']...\n",
      "File /media/edith/TOSHIBA EXT/Reanalysis_ERA5/Vertical_Profile/u_component_of_wind_600hPa_['1999', '2000', '2001', '2002', '2003'].nc already exists. Skipping...\n",
      "Downloading v_component_of_wind at 600 hPa for ['1999', '2000', '2001', '2002', '2003']...\n",
      "File /media/edith/TOSHIBA EXT/Reanalysis_ERA5/Vertical_Profile/v_component_of_wind_600hPa_['1999', '2000', '2001', '2002', '2003'].nc already exists. Skipping...\n",
      "Downloading specific_humidity at 600 hPa for ['1999', '2000', '2001', '2002', '2003']...\n",
      "File /media/edith/TOSHIBA EXT/Reanalysis_ERA5/Vertical_Profile/specific_humidity_600hPa_['1999', '2000', '2001', '2002', '2003'].nc already exists. Skipping...\n",
      "Downloading geopotential at 600 hPa for ['2004', '2005', '2006', '2007', '2008']...\n",
      "File /media/edith/TOSHIBA EXT/Reanalysis_ERA5/Vertical_Profile/geopotential_600hPa_['2004', '2005', '2006', '2007', '2008'].nc already exists. Skipping...\n",
      "Downloading relative_humidity at 600 hPa for ['2004', '2005', '2006', '2007', '2008']...\n",
      "File /media/edith/TOSHIBA EXT/Reanalysis_ERA5/Vertical_Profile/relative_humidity_600hPa_['2004', '2005', '2006', '2007', '2008'].nc already exists. Skipping...\n",
      "Downloading temperature at 600 hPa for ['2004', '2005', '2006', '2007', '2008']...\n",
      "File /media/edith/TOSHIBA EXT/Reanalysis_ERA5/Vertical_Profile/temperature_600hPa_['2004', '2005', '2006', '2007', '2008'].nc already exists. Skipping...\n",
      "Downloading u_component_of_wind at 600 hPa for ['2004', '2005', '2006', '2007', '2008']...\n",
      "File /media/edith/TOSHIBA EXT/Reanalysis_ERA5/Vertical_Profile/u_component_of_wind_600hPa_['2004', '2005', '2006', '2007', '2008'].nc already exists. Skipping...\n",
      "Downloading v_component_of_wind at 600 hPa for ['2004', '2005', '2006', '2007', '2008']...\n",
      "File /media/edith/TOSHIBA EXT/Reanalysis_ERA5/Vertical_Profile/v_component_of_wind_600hPa_['2004', '2005', '2006', '2007', '2008'].nc already exists. Skipping...\n",
      "Downloading specific_humidity at 600 hPa for ['2004', '2005', '2006', '2007', '2008']...\n",
      "File /media/edith/TOSHIBA EXT/Reanalysis_ERA5/Vertical_Profile/specific_humidity_600hPa_['2004', '2005', '2006', '2007', '2008'].nc already exists. Skipping...\n",
      "Downloading geopotential at 600 hPa for ['2009', '2010', '2011', '2012', '2013']...\n",
      "File /media/edith/TOSHIBA EXT/Reanalysis_ERA5/Vertical_Profile/geopotential_600hPa_['2009', '2010', '2011', '2012', '2013'].nc already exists. Skipping...\n",
      "Downloading relative_humidity at 600 hPa for ['2009', '2010', '2011', '2012', '2013']...\n",
      "File /media/edith/TOSHIBA EXT/Reanalysis_ERA5/Vertical_Profile/relative_humidity_600hPa_['2009', '2010', '2011', '2012', '2013'].nc already exists. Skipping...\n",
      "Downloading temperature at 600 hPa for ['2009', '2010', '2011', '2012', '2013']...\n",
      "File /media/edith/TOSHIBA EXT/Reanalysis_ERA5/Vertical_Profile/temperature_600hPa_['2009', '2010', '2011', '2012', '2013'].nc already exists. Skipping...\n",
      "Downloading u_component_of_wind at 600 hPa for ['2009', '2010', '2011', '2012', '2013']...\n",
      "File /media/edith/TOSHIBA EXT/Reanalysis_ERA5/Vertical_Profile/u_component_of_wind_600hPa_['2009', '2010', '2011', '2012', '2013'].nc already exists. Skipping...\n",
      "Downloading v_component_of_wind at 600 hPa for ['2009', '2010', '2011', '2012', '2013']...\n",
      "File /media/edith/TOSHIBA EXT/Reanalysis_ERA5/Vertical_Profile/v_component_of_wind_600hPa_['2009', '2010', '2011', '2012', '2013'].nc already exists. Skipping...\n",
      "Downloading specific_humidity at 600 hPa for ['2009', '2010', '2011', '2012', '2013']...\n",
      "File /media/edith/TOSHIBA EXT/Reanalysis_ERA5/Vertical_Profile/specific_humidity_600hPa_['2009', '2010', '2011', '2012', '2013'].nc already exists. Skipping...\n",
      "Downloading geopotential at 600 hPa for ['2014', '2015', '2016', '2017', '2018']...\n",
      "File /media/edith/TOSHIBA EXT/Reanalysis_ERA5/Vertical_Profile/geopotential_600hPa_['2014', '2015', '2016', '2017', '2018'].nc already exists. Skipping...\n",
      "Downloading relative_humidity at 600 hPa for ['2014', '2015', '2016', '2017', '2018']...\n",
      "File /media/edith/TOSHIBA EXT/Reanalysis_ERA5/Vertical_Profile/relative_humidity_600hPa_['2014', '2015', '2016', '2017', '2018'].nc already exists. Skipping...\n",
      "Downloading temperature at 600 hPa for ['2014', '2015', '2016', '2017', '2018']...\n",
      "File /media/edith/TOSHIBA EXT/Reanalysis_ERA5/Vertical_Profile/temperature_600hPa_['2014', '2015', '2016', '2017', '2018'].nc already exists. Skipping...\n",
      "Downloading u_component_of_wind at 600 hPa for ['2014', '2015', '2016', '2017', '2018']...\n",
      "File /media/edith/TOSHIBA EXT/Reanalysis_ERA5/Vertical_Profile/u_component_of_wind_600hPa_['2014', '2015', '2016', '2017', '2018'].nc already exists. Skipping...\n",
      "Downloading v_component_of_wind at 600 hPa for ['2014', '2015', '2016', '2017', '2018']...\n",
      "File /media/edith/TOSHIBA EXT/Reanalysis_ERA5/Vertical_Profile/v_component_of_wind_600hPa_['2014', '2015', '2016', '2017', '2018'].nc already exists. Skipping...\n",
      "Downloading specific_humidity at 600 hPa for ['2014', '2015', '2016', '2017', '2018']...\n",
      "File /media/edith/TOSHIBA EXT/Reanalysis_ERA5/Vertical_Profile/specific_humidity_600hPa_['2014', '2015', '2016', '2017', '2018'].nc already exists. Skipping...\n",
      "Downloading geopotential at 600 hPa for ['2019', '2020', '2021', '2022', '2023']...\n",
      "File /media/edith/TOSHIBA EXT/Reanalysis_ERA5/Vertical_Profile/geopotential_600hPa_['2019', '2020', '2021', '2022', '2023'].nc already exists. Skipping...\n",
      "Downloading relative_humidity at 600 hPa for ['2019', '2020', '2021', '2022', '2023']...\n"
     ]
    },
    {
     "name": "stderr",
     "output_type": "stream",
     "text": [
      "2024-06-30 23:29:12,050 INFO Welcome to the CDS\n",
      "2024-06-30 23:29:12,052 INFO Sending request to https://cds.climate.copernicus.eu/api/v2/resources/reanalysis-era5-pressure-levels\n",
      "2024-06-30 23:29:12,374 INFO Request is queued\n",
      "2024-06-30 23:29:13,624 INFO Request is running\n",
      "2024-07-01 00:32:07,102 INFO Request is completed\n",
      "2024-07-01 00:32:07,104 INFO Downloading https://download-0016.copernicus-climate.eu/cache-compute-0016/cache/data8/adaptor.mars.internal-1719804195.1287503-32470-18-70511595-5a67-4813-b2c9-1f3d36ba24d5.nc to /media/edith/TOSHIBA EXT/Reanalysis_ERA5/Vertical_Profile/relative_humidity_600hPa_['2019', '2020', '2021', '2022', '2023'].nc (343.5K)\n",
      "2024-07-01 00:32:10,905 INFO Download rate 90.4K/s \n"
     ]
    },
    {
     "name": "stdout",
     "output_type": "stream",
     "text": [
      "Downloading temperature at 600 hPa for ['2019', '2020', '2021', '2022', '2023']...\n"
     ]
    },
    {
     "name": "stderr",
     "output_type": "stream",
     "text": [
      "2024-07-01 00:32:11,500 INFO Welcome to the CDS\n",
      "2024-07-01 00:32:11,501 INFO Sending request to https://cds.climate.copernicus.eu/api/v2/resources/reanalysis-era5-pressure-levels\n",
      "2024-07-01 00:32:11,808 INFO Request is queued\n",
      "2024-07-01 00:32:13,139 INFO Request is running\n",
      "2024-07-01 01:35:09,030 INFO Request is completed\n",
      "2024-07-01 01:35:09,032 INFO Downloading https://download-0013-clone.copernicus-climate.eu/cache-compute-0013/cache/data9/adaptor.mars.internal-1719807984.8405967-25111-8-62fd2b18-1ecd-4862-beff-d804cb447a2d.nc to /media/edith/TOSHIBA EXT/Reanalysis_ERA5/Vertical_Profile/temperature_600hPa_['2019', '2020', '2021', '2022', '2023'].nc (343.5K)\n",
      "2024-07-01 01:35:12,632 INFO Download rate 95.5K/s \n"
     ]
    },
    {
     "name": "stdout",
     "output_type": "stream",
     "text": [
      "Downloading u_component_of_wind at 600 hPa for ['2019', '2020', '2021', '2022', '2023']...\n"
     ]
    },
    {
     "name": "stderr",
     "output_type": "stream",
     "text": [
      "2024-07-01 01:35:13,227 INFO Welcome to the CDS\n",
      "2024-07-01 01:35:13,228 INFO Sending request to https://cds.climate.copernicus.eu/api/v2/resources/reanalysis-era5-pressure-levels\n",
      "2024-07-01 01:35:13,534 INFO Request is queued\n",
      "2024-07-01 01:35:14,866 INFO Request is running\n",
      "2024-07-01 02:40:12,071 INFO Request is completed\n",
      "2024-07-01 02:40:12,074 INFO Downloading https://download-0010-clone.copernicus-climate.eu/cache-compute-0010/cache/data2/adaptor.mars.internal-1719811837.8161967-11667-9-ca354b58-55ec-4c5f-a383-91561ada3d3b.nc to /media/edith/TOSHIBA EXT/Reanalysis_ERA5/Vertical_Profile/u_component_of_wind_600hPa_['2019', '2020', '2021', '2022', '2023'].nc (343.5K)\n",
      "2024-07-01 02:40:15,767 INFO Download rate 93K/s   \n"
     ]
    },
    {
     "name": "stdout",
     "output_type": "stream",
     "text": [
      "Downloading v_component_of_wind at 600 hPa for ['2019', '2020', '2021', '2022', '2023']...\n"
     ]
    },
    {
     "name": "stderr",
     "output_type": "stream",
     "text": [
      "2024-07-01 02:40:16,272 INFO Welcome to the CDS\n",
      "2024-07-01 02:40:16,273 INFO Sending request to https://cds.climate.copernicus.eu/api/v2/resources/reanalysis-era5-pressure-levels\n",
      "2024-07-01 02:40:16,576 INFO Request is queued\n",
      "2024-07-01 02:40:17,908 INFO Request is running\n",
      "2024-07-01 03:41:17,056 INFO Request is completed\n",
      "2024-07-01 03:41:17,058 INFO Downloading https://download-0006-clone.copernicus-climate.eu/cache-compute-0006/cache/data4/adaptor.mars.internal-1719815615.426408-11636-3-a12b24ed-d3be-4adb-bc05-c70a95c9fa22.nc to /media/edith/TOSHIBA EXT/Reanalysis_ERA5/Vertical_Profile/v_component_of_wind_600hPa_['2019', '2020', '2021', '2022', '2023'].nc (343.5K)\n",
      "2024-07-01 03:41:20,758 INFO Download rate 92.9K/s \n"
     ]
    },
    {
     "name": "stdout",
     "output_type": "stream",
     "text": [
      "Downloading specific_humidity at 600 hPa for ['2019', '2020', '2021', '2022', '2023']...\n"
     ]
    },
    {
     "name": "stderr",
     "output_type": "stream",
     "text": [
      "2024-07-01 03:41:21,356 INFO Welcome to the CDS\n",
      "2024-07-01 03:41:21,356 INFO Sending request to https://cds.climate.copernicus.eu/api/v2/resources/reanalysis-era5-pressure-levels\n",
      "2024-07-01 03:41:21,664 INFO Request is queued\n",
      "2024-07-01 03:41:22,996 INFO Request is running\n",
      "2024-07-01 04:48:21,265 INFO Request is completed\n",
      "2024-07-01 04:48:21,266 INFO Downloading https://download-0018.copernicus-climate.eu/cache-compute-0018/cache/data5/adaptor.mars.internal-1719819477.4436274-4068-4-caf2ab95-d851-46ac-ba70-ce378b2848ec.nc to /media/edith/TOSHIBA EXT/Reanalysis_ERA5/Vertical_Profile/specific_humidity_600hPa_['2019', '2020', '2021', '2022', '2023'].nc (343.5K)\n",
      "2024-07-01 04:48:24,400 INFO Download rate 109.6K/s\n"
     ]
    },
    {
     "name": "stdout",
     "output_type": "stream",
     "text": [
      "Downloading geopotential at 500 hPa for ['1999', '2000', '2001', '2002', '2003']...\n",
      "File /media/edith/TOSHIBA EXT/Reanalysis_ERA5/Vertical_Profile/geopotential_500hPa_['1999', '2000', '2001', '2002', '2003'].nc already exists. Skipping...\n",
      "Downloading relative_humidity at 500 hPa for ['1999', '2000', '2001', '2002', '2003']...\n",
      "File /media/edith/TOSHIBA EXT/Reanalysis_ERA5/Vertical_Profile/relative_humidity_500hPa_['1999', '2000', '2001', '2002', '2003'].nc already exists. Skipping...\n",
      "Downloading temperature at 500 hPa for ['1999', '2000', '2001', '2002', '2003']...\n",
      "File /media/edith/TOSHIBA EXT/Reanalysis_ERA5/Vertical_Profile/temperature_500hPa_['1999', '2000', '2001', '2002', '2003'].nc already exists. Skipping...\n",
      "Downloading u_component_of_wind at 500 hPa for ['1999', '2000', '2001', '2002', '2003']...\n",
      "File /media/edith/TOSHIBA EXT/Reanalysis_ERA5/Vertical_Profile/u_component_of_wind_500hPa_['1999', '2000', '2001', '2002', '2003'].nc already exists. Skipping...\n",
      "Downloading v_component_of_wind at 500 hPa for ['1999', '2000', '2001', '2002', '2003']...\n",
      "File /media/edith/TOSHIBA EXT/Reanalysis_ERA5/Vertical_Profile/v_component_of_wind_500hPa_['1999', '2000', '2001', '2002', '2003'].nc already exists. Skipping...\n",
      "Downloading specific_humidity at 500 hPa for ['1999', '2000', '2001', '2002', '2003']...\n",
      "File /media/edith/TOSHIBA EXT/Reanalysis_ERA5/Vertical_Profile/specific_humidity_500hPa_['1999', '2000', '2001', '2002', '2003'].nc already exists. Skipping...\n",
      "Downloading geopotential at 500 hPa for ['2004', '2005', '2006', '2007', '2008']...\n",
      "File /media/edith/TOSHIBA EXT/Reanalysis_ERA5/Vertical_Profile/geopotential_500hPa_['2004', '2005', '2006', '2007', '2008'].nc already exists. Skipping...\n",
      "Downloading relative_humidity at 500 hPa for ['2004', '2005', '2006', '2007', '2008']...\n",
      "File /media/edith/TOSHIBA EXT/Reanalysis_ERA5/Vertical_Profile/relative_humidity_500hPa_['2004', '2005', '2006', '2007', '2008'].nc already exists. Skipping...\n",
      "Downloading temperature at 500 hPa for ['2004', '2005', '2006', '2007', '2008']...\n",
      "File /media/edith/TOSHIBA EXT/Reanalysis_ERA5/Vertical_Profile/temperature_500hPa_['2004', '2005', '2006', '2007', '2008'].nc already exists. Skipping...\n",
      "Downloading u_component_of_wind at 500 hPa for ['2004', '2005', '2006', '2007', '2008']...\n",
      "File /media/edith/TOSHIBA EXT/Reanalysis_ERA5/Vertical_Profile/u_component_of_wind_500hPa_['2004', '2005', '2006', '2007', '2008'].nc already exists. Skipping...\n",
      "Downloading v_component_of_wind at 500 hPa for ['2004', '2005', '2006', '2007', '2008']...\n",
      "File /media/edith/TOSHIBA EXT/Reanalysis_ERA5/Vertical_Profile/v_component_of_wind_500hPa_['2004', '2005', '2006', '2007', '2008'].nc already exists. Skipping...\n",
      "Downloading specific_humidity at 500 hPa for ['2004', '2005', '2006', '2007', '2008']...\n",
      "File /media/edith/TOSHIBA EXT/Reanalysis_ERA5/Vertical_Profile/specific_humidity_500hPa_['2004', '2005', '2006', '2007', '2008'].nc already exists. Skipping...\n",
      "Downloading geopotential at 500 hPa for ['2009', '2010', '2011', '2012', '2013']...\n",
      "File /media/edith/TOSHIBA EXT/Reanalysis_ERA5/Vertical_Profile/geopotential_500hPa_['2009', '2010', '2011', '2012', '2013'].nc already exists. Skipping...\n",
      "Downloading relative_humidity at 500 hPa for ['2009', '2010', '2011', '2012', '2013']...\n",
      "File /media/edith/TOSHIBA EXT/Reanalysis_ERA5/Vertical_Profile/relative_humidity_500hPa_['2009', '2010', '2011', '2012', '2013'].nc already exists. Skipping...\n",
      "Downloading temperature at 500 hPa for ['2009', '2010', '2011', '2012', '2013']...\n",
      "File /media/edith/TOSHIBA EXT/Reanalysis_ERA5/Vertical_Profile/temperature_500hPa_['2009', '2010', '2011', '2012', '2013'].nc already exists. Skipping...\n",
      "Downloading u_component_of_wind at 500 hPa for ['2009', '2010', '2011', '2012', '2013']...\n",
      "File /media/edith/TOSHIBA EXT/Reanalysis_ERA5/Vertical_Profile/u_component_of_wind_500hPa_['2009', '2010', '2011', '2012', '2013'].nc already exists. Skipping...\n",
      "Downloading v_component_of_wind at 500 hPa for ['2009', '2010', '2011', '2012', '2013']...\n",
      "File /media/edith/TOSHIBA EXT/Reanalysis_ERA5/Vertical_Profile/v_component_of_wind_500hPa_['2009', '2010', '2011', '2012', '2013'].nc already exists. Skipping...\n",
      "Downloading specific_humidity at 500 hPa for ['2009', '2010', '2011', '2012', '2013']...\n",
      "File /media/edith/TOSHIBA EXT/Reanalysis_ERA5/Vertical_Profile/specific_humidity_500hPa_['2009', '2010', '2011', '2012', '2013'].nc already exists. Skipping...\n",
      "Downloading geopotential at 500 hPa for ['2014', '2015', '2016', '2017', '2018']...\n",
      "File /media/edith/TOSHIBA EXT/Reanalysis_ERA5/Vertical_Profile/geopotential_500hPa_['2014', '2015', '2016', '2017', '2018'].nc already exists. Skipping...\n",
      "Downloading relative_humidity at 500 hPa for ['2014', '2015', '2016', '2017', '2018']...\n",
      "File /media/edith/TOSHIBA EXT/Reanalysis_ERA5/Vertical_Profile/relative_humidity_500hPa_['2014', '2015', '2016', '2017', '2018'].nc already exists. Skipping...\n",
      "Downloading temperature at 500 hPa for ['2014', '2015', '2016', '2017', '2018']...\n",
      "File /media/edith/TOSHIBA EXT/Reanalysis_ERA5/Vertical_Profile/temperature_500hPa_['2014', '2015', '2016', '2017', '2018'].nc already exists. Skipping...\n",
      "Downloading u_component_of_wind at 500 hPa for ['2014', '2015', '2016', '2017', '2018']...\n",
      "File /media/edith/TOSHIBA EXT/Reanalysis_ERA5/Vertical_Profile/u_component_of_wind_500hPa_['2014', '2015', '2016', '2017', '2018'].nc already exists. Skipping...\n",
      "Downloading v_component_of_wind at 500 hPa for ['2014', '2015', '2016', '2017', '2018']...\n",
      "File /media/edith/TOSHIBA EXT/Reanalysis_ERA5/Vertical_Profile/v_component_of_wind_500hPa_['2014', '2015', '2016', '2017', '2018'].nc already exists. Skipping...\n",
      "Downloading specific_humidity at 500 hPa for ['2014', '2015', '2016', '2017', '2018']...\n",
      "File /media/edith/TOSHIBA EXT/Reanalysis_ERA5/Vertical_Profile/specific_humidity_500hPa_['2014', '2015', '2016', '2017', '2018'].nc already exists. Skipping...\n",
      "Downloading geopotential at 500 hPa for ['2019', '2020', '2021', '2022', '2023']...\n",
      "File /media/edith/TOSHIBA EXT/Reanalysis_ERA5/Vertical_Profile/geopotential_500hPa_['2019', '2020', '2021', '2022', '2023'].nc already exists. Skipping...\n",
      "Downloading relative_humidity at 500 hPa for ['2019', '2020', '2021', '2022', '2023']...\n"
     ]
    },
    {
     "name": "stderr",
     "output_type": "stream",
     "text": [
      "2024-07-01 04:48:30,891 INFO Welcome to the CDS\n",
      "2024-07-01 04:48:30,893 INFO Sending request to https://cds.climate.copernicus.eu/api/v2/resources/reanalysis-era5-pressure-levels\n",
      "2024-07-01 04:48:31,198 INFO Request is queued\n",
      "2024-07-01 04:48:34,270 INFO Request is running\n",
      "2024-07-01 05:57:32,248 INFO Request is completed\n",
      "2024-07-01 05:57:32,250 INFO Downloading https://download-0011-clone.copernicus-climate.eu/cache-compute-0011/cache/data9/adaptor.mars.internal-1719823610.877483-3591-3-c7c6bd1e-ad2a-4a5c-b771-bab004d7a169.nc to /media/edith/TOSHIBA EXT/Reanalysis_ERA5/Vertical_Profile/relative_humidity_500hPa_['2019', '2020', '2021', '2022', '2023'].nc (343.5K)\n",
      "2024-07-01 05:57:41,704 INFO Download rate 36.3K/s \n"
     ]
    },
    {
     "name": "stdout",
     "output_type": "stream",
     "text": [
      "Downloading temperature at 500 hPa for ['2019', '2020', '2021', '2022', '2023']...\n"
     ]
    },
    {
     "name": "stderr",
     "output_type": "stream",
     "text": [
      "2024-07-01 05:57:42,282 INFO Welcome to the CDS\n",
      "2024-07-01 05:57:42,283 INFO Sending request to https://cds.climate.copernicus.eu/api/v2/resources/reanalysis-era5-pressure-levels\n",
      "2024-07-01 05:57:42,591 INFO Request is queued\n",
      "2024-07-01 05:57:43,922 INFO Request is running\n",
      "2024-07-01 07:00:40,035 INFO Request is completed\n",
      "2024-07-01 07:00:40,037 INFO Downloading https://download-0005-clone.copernicus-climate.eu/cache-compute-0005/cache/data2/adaptor.mars.internal-1719827572.639479-5136-16-45ffaf08-78e5-4311-b3ad-f360c4f5f31a.nc to /media/edith/TOSHIBA EXT/Reanalysis_ERA5/Vertical_Profile/temperature_500hPa_['2019', '2020', '2021', '2022', '2023'].nc (343.5K)\n",
      "2024-07-01 07:00:43,936 INFO Download rate 88.2K/s \n"
     ]
    },
    {
     "name": "stdout",
     "output_type": "stream",
     "text": [
      "Downloading u_component_of_wind at 500 hPa for ['2019', '2020', '2021', '2022', '2023']...\n"
     ]
    },
    {
     "name": "stderr",
     "output_type": "stream",
     "text": [
      "2024-07-01 07:00:44,540 INFO Welcome to the CDS\n",
      "2024-07-01 07:00:44,541 INFO Sending request to https://cds.climate.copernicus.eu/api/v2/resources/reanalysis-era5-pressure-levels\n",
      "2024-07-01 07:00:44,848 INFO Request is queued\n",
      "2024-07-01 07:00:46,180 INFO Request is running\n",
      "2024-07-01 08:07:45,027 INFO Request is completed\n",
      "2024-07-01 08:07:45,030 INFO Downloading https://download-0006-clone.copernicus-climate.eu/cache-compute-0006/cache/data7/adaptor.mars.internal-1719831433.6523685-11457-8-00bea23e-1c16-47cc-8651-1efdf9e54497.nc to /media/edith/TOSHIBA EXT/Reanalysis_ERA5/Vertical_Profile/u_component_of_wind_500hPa_['2019', '2020', '2021', '2022', '2023'].nc (343.5K)\n",
      "2024-07-01 08:07:48,422 INFO Download rate 101.3K/s\n"
     ]
    },
    {
     "name": "stdout",
     "output_type": "stream",
     "text": [
      "Downloading v_component_of_wind at 500 hPa for ['2019', '2020', '2021', '2022', '2023']...\n"
     ]
    },
    {
     "name": "stderr",
     "output_type": "stream",
     "text": [
      "2024-07-01 08:07:48,936 INFO Welcome to the CDS\n",
      "2024-07-01 08:07:48,938 INFO Sending request to https://cds.climate.copernicus.eu/api/v2/resources/reanalysis-era5-pressure-levels\n",
      "2024-07-01 08:07:49,225 INFO Request is queued\n",
      "2024-07-01 08:07:50,557 INFO Request is running\n",
      "2024-07-01 09:14:48,743 INFO Request is completed\n",
      "2024-07-01 09:14:48,745 INFO Downloading https://download-0000-clone.copernicus-climate.eu/cache-compute-0000/cache/data2/adaptor.mars.internal-1719835353.1838636-5683-11-22ae0e29-b10a-4ddd-a19b-40597df40bf0.nc to /media/edith/TOSHIBA EXT/Reanalysis_ERA5/Vertical_Profile/v_component_of_wind_500hPa_['2019', '2020', '2021', '2022', '2023'].nc (343.5K)\n",
      "2024-07-01 09:14:52,155 INFO Download rate 100.8K/s\n"
     ]
    },
    {
     "name": "stdout",
     "output_type": "stream",
     "text": [
      "Downloading specific_humidity at 500 hPa for ['2019', '2020', '2021', '2022', '2023']...\n"
     ]
    },
    {
     "name": "stderr",
     "output_type": "stream",
     "text": [
      "2024-07-01 09:14:52,633 INFO Welcome to the CDS\n",
      "2024-07-01 09:14:52,634 INFO Sending request to https://cds.climate.copernicus.eu/api/v2/resources/reanalysis-era5-pressure-levels\n",
      "2024-07-01 09:14:52,985 INFO Request is queued\n",
      "2024-07-01 09:14:54,272 INFO Request is running\n",
      "2024-07-01 10:23:53,653 INFO Request is completed\n",
      "2024-07-01 10:23:53,655 INFO Downloading https://download-0005-clone.copernicus-climate.eu/cache-compute-0005/cache/data7/adaptor.mars.internal-1719839448.073777-22032-17-cc4ca47c-c7f5-4052-a6d4-e89fd34d73a6.nc to /media/edith/TOSHIBA EXT/Reanalysis_ERA5/Vertical_Profile/specific_humidity_500hPa_['2019', '2020', '2021', '2022', '2023'].nc (343.5K)\n",
      "2024-07-01 10:23:57,043 INFO Download rate 101.4K/s\n"
     ]
    },
    {
     "name": "stdout",
     "output_type": "stream",
     "text": [
      "Downloading geopotential at 400 hPa for ['1999', '2000', '2001', '2002', '2003']...\n",
      "File /media/edith/TOSHIBA EXT/Reanalysis_ERA5/Vertical_Profile/geopotential_400hPa_['1999', '2000', '2001', '2002', '2003'].nc already exists. Skipping...\n",
      "Downloading relative_humidity at 400 hPa for ['1999', '2000', '2001', '2002', '2003']...\n",
      "File /media/edith/TOSHIBA EXT/Reanalysis_ERA5/Vertical_Profile/relative_humidity_400hPa_['1999', '2000', '2001', '2002', '2003'].nc already exists. Skipping...\n",
      "Downloading temperature at 400 hPa for ['1999', '2000', '2001', '2002', '2003']...\n",
      "File /media/edith/TOSHIBA EXT/Reanalysis_ERA5/Vertical_Profile/temperature_400hPa_['1999', '2000', '2001', '2002', '2003'].nc already exists. Skipping...\n",
      "Downloading u_component_of_wind at 400 hPa for ['1999', '2000', '2001', '2002', '2003']...\n",
      "File /media/edith/TOSHIBA EXT/Reanalysis_ERA5/Vertical_Profile/u_component_of_wind_400hPa_['1999', '2000', '2001', '2002', '2003'].nc already exists. Skipping...\n",
      "Downloading v_component_of_wind at 400 hPa for ['1999', '2000', '2001', '2002', '2003']...\n",
      "File /media/edith/TOSHIBA EXT/Reanalysis_ERA5/Vertical_Profile/v_component_of_wind_400hPa_['1999', '2000', '2001', '2002', '2003'].nc already exists. Skipping...\n",
      "Downloading specific_humidity at 400 hPa for ['1999', '2000', '2001', '2002', '2003']...\n",
      "File /media/edith/TOSHIBA EXT/Reanalysis_ERA5/Vertical_Profile/specific_humidity_400hPa_['1999', '2000', '2001', '2002', '2003'].nc already exists. Skipping...\n",
      "Downloading geopotential at 400 hPa for ['2004', '2005', '2006', '2007', '2008']...\n",
      "File /media/edith/TOSHIBA EXT/Reanalysis_ERA5/Vertical_Profile/geopotential_400hPa_['2004', '2005', '2006', '2007', '2008'].nc already exists. Skipping...\n",
      "Downloading relative_humidity at 400 hPa for ['2004', '2005', '2006', '2007', '2008']...\n",
      "File /media/edith/TOSHIBA EXT/Reanalysis_ERA5/Vertical_Profile/relative_humidity_400hPa_['2004', '2005', '2006', '2007', '2008'].nc already exists. Skipping...\n",
      "Downloading temperature at 400 hPa for ['2004', '2005', '2006', '2007', '2008']...\n",
      "File /media/edith/TOSHIBA EXT/Reanalysis_ERA5/Vertical_Profile/temperature_400hPa_['2004', '2005', '2006', '2007', '2008'].nc already exists. Skipping...\n",
      "Downloading u_component_of_wind at 400 hPa for ['2004', '2005', '2006', '2007', '2008']...\n",
      "File /media/edith/TOSHIBA EXT/Reanalysis_ERA5/Vertical_Profile/u_component_of_wind_400hPa_['2004', '2005', '2006', '2007', '2008'].nc already exists. Skipping...\n",
      "Downloading v_component_of_wind at 400 hPa for ['2004', '2005', '2006', '2007', '2008']...\n",
      "File /media/edith/TOSHIBA EXT/Reanalysis_ERA5/Vertical_Profile/v_component_of_wind_400hPa_['2004', '2005', '2006', '2007', '2008'].nc already exists. Skipping...\n",
      "Downloading specific_humidity at 400 hPa for ['2004', '2005', '2006', '2007', '2008']...\n",
      "File /media/edith/TOSHIBA EXT/Reanalysis_ERA5/Vertical_Profile/specific_humidity_400hPa_['2004', '2005', '2006', '2007', '2008'].nc already exists. Skipping...\n",
      "Downloading geopotential at 400 hPa for ['2009', '2010', '2011', '2012', '2013']...\n",
      "File /media/edith/TOSHIBA EXT/Reanalysis_ERA5/Vertical_Profile/geopotential_400hPa_['2009', '2010', '2011', '2012', '2013'].nc already exists. Skipping...\n",
      "Downloading relative_humidity at 400 hPa for ['2009', '2010', '2011', '2012', '2013']...\n",
      "File /media/edith/TOSHIBA EXT/Reanalysis_ERA5/Vertical_Profile/relative_humidity_400hPa_['2009', '2010', '2011', '2012', '2013'].nc already exists. Skipping...\n",
      "Downloading temperature at 400 hPa for ['2009', '2010', '2011', '2012', '2013']...\n",
      "File /media/edith/TOSHIBA EXT/Reanalysis_ERA5/Vertical_Profile/temperature_400hPa_['2009', '2010', '2011', '2012', '2013'].nc already exists. Skipping...\n",
      "Downloading u_component_of_wind at 400 hPa for ['2009', '2010', '2011', '2012', '2013']...\n",
      "File /media/edith/TOSHIBA EXT/Reanalysis_ERA5/Vertical_Profile/u_component_of_wind_400hPa_['2009', '2010', '2011', '2012', '2013'].nc already exists. Skipping...\n",
      "Downloading v_component_of_wind at 400 hPa for ['2009', '2010', '2011', '2012', '2013']...\n",
      "File /media/edith/TOSHIBA EXT/Reanalysis_ERA5/Vertical_Profile/v_component_of_wind_400hPa_['2009', '2010', '2011', '2012', '2013'].nc already exists. Skipping...\n",
      "Downloading specific_humidity at 400 hPa for ['2009', '2010', '2011', '2012', '2013']...\n",
      "File /media/edith/TOSHIBA EXT/Reanalysis_ERA5/Vertical_Profile/specific_humidity_400hPa_['2009', '2010', '2011', '2012', '2013'].nc already exists. Skipping...\n",
      "Downloading geopotential at 400 hPa for ['2014', '2015', '2016', '2017', '2018']...\n",
      "File /media/edith/TOSHIBA EXT/Reanalysis_ERA5/Vertical_Profile/geopotential_400hPa_['2014', '2015', '2016', '2017', '2018'].nc already exists. Skipping...\n",
      "Downloading relative_humidity at 400 hPa for ['2014', '2015', '2016', '2017', '2018']...\n",
      "File /media/edith/TOSHIBA EXT/Reanalysis_ERA5/Vertical_Profile/relative_humidity_400hPa_['2014', '2015', '2016', '2017', '2018'].nc already exists. Skipping...\n",
      "Downloading temperature at 400 hPa for ['2014', '2015', '2016', '2017', '2018']...\n",
      "File /media/edith/TOSHIBA EXT/Reanalysis_ERA5/Vertical_Profile/temperature_400hPa_['2014', '2015', '2016', '2017', '2018'].nc already exists. Skipping...\n",
      "Downloading u_component_of_wind at 400 hPa for ['2014', '2015', '2016', '2017', '2018']...\n",
      "File /media/edith/TOSHIBA EXT/Reanalysis_ERA5/Vertical_Profile/u_component_of_wind_400hPa_['2014', '2015', '2016', '2017', '2018'].nc already exists. Skipping...\n",
      "Downloading v_component_of_wind at 400 hPa for ['2014', '2015', '2016', '2017', '2018']...\n",
      "File /media/edith/TOSHIBA EXT/Reanalysis_ERA5/Vertical_Profile/v_component_of_wind_400hPa_['2014', '2015', '2016', '2017', '2018'].nc already exists. Skipping...\n",
      "Downloading specific_humidity at 400 hPa for ['2014', '2015', '2016', '2017', '2018']...\n",
      "File /media/edith/TOSHIBA EXT/Reanalysis_ERA5/Vertical_Profile/specific_humidity_400hPa_['2014', '2015', '2016', '2017', '2018'].nc already exists. Skipping...\n",
      "Downloading geopotential at 400 hPa for ['2019', '2020', '2021', '2022', '2023']...\n",
      "File /media/edith/TOSHIBA EXT/Reanalysis_ERA5/Vertical_Profile/geopotential_400hPa_['2019', '2020', '2021', '2022', '2023'].nc already exists. Skipping...\n",
      "Downloading relative_humidity at 400 hPa for ['2019', '2020', '2021', '2022', '2023']...\n"
     ]
    },
    {
     "name": "stderr",
     "output_type": "stream",
     "text": [
      "2024-07-01 10:24:03,892 INFO Welcome to the CDS\n",
      "2024-07-01 10:24:03,894 INFO Sending request to https://cds.climate.copernicus.eu/api/v2/resources/reanalysis-era5-pressure-levels\n",
      "2024-07-01 10:24:04,188 INFO Request is queued\n",
      "2024-07-01 10:24:05,531 INFO Request is running\n",
      "2024-07-01 11:28:59,111 INFO Request is completed\n",
      "2024-07-01 11:28:59,113 INFO Downloading https://download-0019.copernicus-climate.eu/cache-compute-0019/cache/data1/adaptor.mars.internal-1719843679.8947935-9958-18-934a252f-15a5-427b-b45e-f221a1ad521c.nc to /media/edith/TOSHIBA EXT/Reanalysis_ERA5/Vertical_Profile/relative_humidity_400hPa_['2019', '2020', '2021', '2022', '2023'].nc (343.5K)\n",
      "2024-07-01 11:29:01,220 INFO Download rate 163.1K/s\n"
     ]
    },
    {
     "name": "stdout",
     "output_type": "stream",
     "text": [
      "Downloading temperature at 400 hPa for ['2019', '2020', '2021', '2022', '2023']...\n"
     ]
    },
    {
     "name": "stderr",
     "output_type": "stream",
     "text": [
      "2024-07-01 11:29:01,675 INFO Welcome to the CDS\n",
      "2024-07-01 11:29:01,676 INFO Sending request to https://cds.climate.copernicus.eu/api/v2/resources/reanalysis-era5-pressure-levels\n",
      "2024-07-01 11:29:01,955 INFO Request is queued\n",
      "2024-07-01 11:29:24,101 INFO Request is running\n",
      "2024-07-01 12:37:53,542 INFO Request is completed\n",
      "2024-07-01 12:37:53,544 INFO Downloading https://download-0010-clone.copernicus-climate.eu/cache-compute-0010/cache/data4/adaptor.mars.internal-1719847492.4785213-19255-6-233040f8-0cb1-4183-b093-9448b8024c68.nc to /media/edith/TOSHIBA EXT/Reanalysis_ERA5/Vertical_Profile/temperature_400hPa_['2019', '2020', '2021', '2022', '2023'].nc (343.5K)\n",
      "2024-07-01 12:37:56,269 INFO Download rate 126.1K/s\n"
     ]
    },
    {
     "name": "stdout",
     "output_type": "stream",
     "text": [
      "Downloading u_component_of_wind at 400 hPa for ['2019', '2020', '2021', '2022', '2023']...\n"
     ]
    },
    {
     "name": "stderr",
     "output_type": "stream",
     "text": [
      "2024-07-01 12:37:56,729 INFO Welcome to the CDS\n",
      "2024-07-01 12:37:56,731 INFO Sending request to https://cds.climate.copernicus.eu/api/v2/resources/reanalysis-era5-pressure-levels\n",
      "2024-07-01 12:37:57,025 INFO Request is queued\n",
      "2024-07-01 12:37:59,985 INFO Request is running\n",
      "2024-07-01 13:44:47,557 INFO Request is completed\n",
      "2024-07-01 13:44:47,559 INFO Downloading https://download-0002-clone.copernicus-climate.eu/cache-compute-0002/cache/data2/adaptor.mars.internal-1719851619.853769-31230-1-eb3fc7a6-a4de-4ab0-aa98-4bc9c618740b.nc to /media/edith/TOSHIBA EXT/Reanalysis_ERA5/Vertical_Profile/u_component_of_wind_400hPa_['2019', '2020', '2021', '2022', '2023'].nc (343.5K)\n",
      "2024-07-01 13:44:50,080 INFO Download rate 136.4K/s\n"
     ]
    },
    {
     "name": "stdout",
     "output_type": "stream",
     "text": [
      "Downloading v_component_of_wind at 400 hPa for ['2019', '2020', '2021', '2022', '2023']...\n"
     ]
    },
    {
     "name": "stderr",
     "output_type": "stream",
     "text": [
      "2024-07-01 13:44:50,536 INFO Welcome to the CDS\n",
      "2024-07-01 13:44:50,537 INFO Sending request to https://cds.climate.copernicus.eu/api/v2/resources/reanalysis-era5-pressure-levels\n",
      "2024-07-01 13:44:50,852 INFO Request is queued\n",
      "2024-07-01 13:44:59,880 INFO Request is running\n",
      "2024-07-01 14:55:43,459 INFO Request is completed\n",
      "2024-07-01 14:55:43,461 INFO Downloading https://download-0011-clone.copernicus-climate.eu/cache-compute-0011/cache/data4/adaptor.mars.internal-1719856061.6862736-30130-5-c99da9b1-beda-4ee3-ad37-d5e90a1358c0.nc to /media/edith/TOSHIBA EXT/Reanalysis_ERA5/Vertical_Profile/v_component_of_wind_400hPa_['2019', '2020', '2021', '2022', '2023'].nc (343.5K)\n",
      "2024-07-01 14:55:46,021 INFO Download rate 134.3K/s\n"
     ]
    },
    {
     "name": "stdout",
     "output_type": "stream",
     "text": [
      "Downloading specific_humidity at 400 hPa for ['2019', '2020', '2021', '2022', '2023']...\n"
     ]
    },
    {
     "name": "stderr",
     "output_type": "stream",
     "text": [
      "2024-07-01 14:55:46,471 INFO Welcome to the CDS\n",
      "2024-07-01 14:55:46,471 INFO Sending request to https://cds.climate.copernicus.eu/api/v2/resources/reanalysis-era5-pressure-levels\n",
      "2024-07-01 14:55:46,802 INFO Request is queued\n",
      "2024-07-01 14:55:55,826 INFO Request is running\n",
      "2024-07-01 16:06:39,666 INFO Request is completed\n",
      "2024-07-01 16:06:39,669 INFO Downloading https://download-0014-clone.copernicus-climate.eu/cache-compute-0014/cache/data6/adaptor.mars.internal-1719860315.282492-7426-5-bc42a7d8-6737-4f43-a563-a4bcf2659eb6.nc to /media/edith/TOSHIBA EXT/Reanalysis_ERA5/Vertical_Profile/specific_humidity_400hPa_['2019', '2020', '2021', '2022', '2023'].nc (343.5K)\n",
      "2024-07-01 16:06:41,801 INFO Download rate 161.2K/s\n"
     ]
    },
    {
     "name": "stdout",
     "output_type": "stream",
     "text": [
      "Downloading geopotential at 300 hPa for ['1999', '2000', '2001', '2002', '2003']...\n",
      "File /media/edith/TOSHIBA EXT/Reanalysis_ERA5/Vertical_Profile/geopotential_300hPa_['1999', '2000', '2001', '2002', '2003'].nc already exists. Skipping...\n",
      "Downloading relative_humidity at 300 hPa for ['1999', '2000', '2001', '2002', '2003']...\n",
      "File /media/edith/TOSHIBA EXT/Reanalysis_ERA5/Vertical_Profile/relative_humidity_300hPa_['1999', '2000', '2001', '2002', '2003'].nc already exists. Skipping...\n",
      "Downloading temperature at 300 hPa for ['1999', '2000', '2001', '2002', '2003']...\n",
      "File /media/edith/TOSHIBA EXT/Reanalysis_ERA5/Vertical_Profile/temperature_300hPa_['1999', '2000', '2001', '2002', '2003'].nc already exists. Skipping...\n",
      "Downloading u_component_of_wind at 300 hPa for ['1999', '2000', '2001', '2002', '2003']...\n",
      "File /media/edith/TOSHIBA EXT/Reanalysis_ERA5/Vertical_Profile/u_component_of_wind_300hPa_['1999', '2000', '2001', '2002', '2003'].nc already exists. Skipping...\n",
      "Downloading v_component_of_wind at 300 hPa for ['1999', '2000', '2001', '2002', '2003']...\n",
      "File /media/edith/TOSHIBA EXT/Reanalysis_ERA5/Vertical_Profile/v_component_of_wind_300hPa_['1999', '2000', '2001', '2002', '2003'].nc already exists. Skipping...\n",
      "Downloading specific_humidity at 300 hPa for ['1999', '2000', '2001', '2002', '2003']...\n",
      "File /media/edith/TOSHIBA EXT/Reanalysis_ERA5/Vertical_Profile/specific_humidity_300hPa_['1999', '2000', '2001', '2002', '2003'].nc already exists. Skipping...\n",
      "Downloading geopotential at 300 hPa for ['2004', '2005', '2006', '2007', '2008']...\n",
      "File /media/edith/TOSHIBA EXT/Reanalysis_ERA5/Vertical_Profile/geopotential_300hPa_['2004', '2005', '2006', '2007', '2008'].nc already exists. Skipping...\n",
      "Downloading relative_humidity at 300 hPa for ['2004', '2005', '2006', '2007', '2008']...\n",
      "File /media/edith/TOSHIBA EXT/Reanalysis_ERA5/Vertical_Profile/relative_humidity_300hPa_['2004', '2005', '2006', '2007', '2008'].nc already exists. Skipping...\n",
      "Downloading temperature at 300 hPa for ['2004', '2005', '2006', '2007', '2008']...\n",
      "File /media/edith/TOSHIBA EXT/Reanalysis_ERA5/Vertical_Profile/temperature_300hPa_['2004', '2005', '2006', '2007', '2008'].nc already exists. Skipping...\n",
      "Downloading u_component_of_wind at 300 hPa for ['2004', '2005', '2006', '2007', '2008']...\n",
      "File /media/edith/TOSHIBA EXT/Reanalysis_ERA5/Vertical_Profile/u_component_of_wind_300hPa_['2004', '2005', '2006', '2007', '2008'].nc already exists. Skipping...\n",
      "Downloading v_component_of_wind at 300 hPa for ['2004', '2005', '2006', '2007', '2008']...\n",
      "File /media/edith/TOSHIBA EXT/Reanalysis_ERA5/Vertical_Profile/v_component_of_wind_300hPa_['2004', '2005', '2006', '2007', '2008'].nc already exists. Skipping...\n",
      "Downloading specific_humidity at 300 hPa for ['2004', '2005', '2006', '2007', '2008']...\n",
      "File /media/edith/TOSHIBA EXT/Reanalysis_ERA5/Vertical_Profile/specific_humidity_300hPa_['2004', '2005', '2006', '2007', '2008'].nc already exists. Skipping...\n",
      "Downloading geopotential at 300 hPa for ['2009', '2010', '2011', '2012', '2013']...\n",
      "File /media/edith/TOSHIBA EXT/Reanalysis_ERA5/Vertical_Profile/geopotential_300hPa_['2009', '2010', '2011', '2012', '2013'].nc already exists. Skipping...\n",
      "Downloading relative_humidity at 300 hPa for ['2009', '2010', '2011', '2012', '2013']...\n",
      "File /media/edith/TOSHIBA EXT/Reanalysis_ERA5/Vertical_Profile/relative_humidity_300hPa_['2009', '2010', '2011', '2012', '2013'].nc already exists. Skipping...\n",
      "Downloading temperature at 300 hPa for ['2009', '2010', '2011', '2012', '2013']...\n",
      "File /media/edith/TOSHIBA EXT/Reanalysis_ERA5/Vertical_Profile/temperature_300hPa_['2009', '2010', '2011', '2012', '2013'].nc already exists. Skipping...\n",
      "Downloading u_component_of_wind at 300 hPa for ['2009', '2010', '2011', '2012', '2013']...\n",
      "File /media/edith/TOSHIBA EXT/Reanalysis_ERA5/Vertical_Profile/u_component_of_wind_300hPa_['2009', '2010', '2011', '2012', '2013'].nc already exists. Skipping...\n",
      "Downloading v_component_of_wind at 300 hPa for ['2009', '2010', '2011', '2012', '2013']...\n",
      "File /media/edith/TOSHIBA EXT/Reanalysis_ERA5/Vertical_Profile/v_component_of_wind_300hPa_['2009', '2010', '2011', '2012', '2013'].nc already exists. Skipping...\n",
      "Downloading specific_humidity at 300 hPa for ['2009', '2010', '2011', '2012', '2013']...\n",
      "File /media/edith/TOSHIBA EXT/Reanalysis_ERA5/Vertical_Profile/specific_humidity_300hPa_['2009', '2010', '2011', '2012', '2013'].nc already exists. Skipping...\n",
      "Downloading geopotential at 300 hPa for ['2014', '2015', '2016', '2017', '2018']...\n",
      "File /media/edith/TOSHIBA EXT/Reanalysis_ERA5/Vertical_Profile/geopotential_300hPa_['2014', '2015', '2016', '2017', '2018'].nc already exists. Skipping...\n",
      "Downloading relative_humidity at 300 hPa for ['2014', '2015', '2016', '2017', '2018']...\n",
      "File /media/edith/TOSHIBA EXT/Reanalysis_ERA5/Vertical_Profile/relative_humidity_300hPa_['2014', '2015', '2016', '2017', '2018'].nc already exists. Skipping...\n",
      "Downloading temperature at 300 hPa for ['2014', '2015', '2016', '2017', '2018']...\n",
      "File /media/edith/TOSHIBA EXT/Reanalysis_ERA5/Vertical_Profile/temperature_300hPa_['2014', '2015', '2016', '2017', '2018'].nc already exists. Skipping...\n",
      "Downloading u_component_of_wind at 300 hPa for ['2014', '2015', '2016', '2017', '2018']...\n",
      "File /media/edith/TOSHIBA EXT/Reanalysis_ERA5/Vertical_Profile/u_component_of_wind_300hPa_['2014', '2015', '2016', '2017', '2018'].nc already exists. Skipping...\n",
      "Downloading v_component_of_wind at 300 hPa for ['2014', '2015', '2016', '2017', '2018']...\n",
      "File /media/edith/TOSHIBA EXT/Reanalysis_ERA5/Vertical_Profile/v_component_of_wind_300hPa_['2014', '2015', '2016', '2017', '2018'].nc already exists. Skipping...\n",
      "Downloading specific_humidity at 300 hPa for ['2014', '2015', '2016', '2017', '2018']...\n",
      "File /media/edith/TOSHIBA EXT/Reanalysis_ERA5/Vertical_Profile/specific_humidity_300hPa_['2014', '2015', '2016', '2017', '2018'].nc already exists. Skipping...\n",
      "Downloading geopotential at 300 hPa for ['2019', '2020', '2021', '2022', '2023']...\n",
      "File /media/edith/TOSHIBA EXT/Reanalysis_ERA5/Vertical_Profile/geopotential_300hPa_['2019', '2020', '2021', '2022', '2023'].nc already exists. Skipping...\n",
      "Downloading relative_humidity at 300 hPa for ['2019', '2020', '2021', '2022', '2023']...\n"
     ]
    },
    {
     "name": "stderr",
     "output_type": "stream",
     "text": [
      "2024-07-01 16:06:48,403 INFO Welcome to the CDS\n",
      "2024-07-01 16:06:48,405 INFO Sending request to https://cds.climate.copernicus.eu/api/v2/resources/reanalysis-era5-pressure-levels\n",
      "2024-07-01 16:06:48,675 INFO Request is queued\n",
      "2024-07-01 16:06:54,126 INFO Request is running\n",
      "2024-07-01 17:09:37,601 INFO Request is completed\n",
      "2024-07-01 17:09:37,603 INFO Downloading https://download-0001-clone.copernicus-climate.eu/cache-compute-0001/cache/data6/adaptor.mars.internal-1719864134.3334787-10444-10-3f75fdc5-439e-4b71-a2b0-91982e969ddc.nc to /media/edith/TOSHIBA EXT/Reanalysis_ERA5/Vertical_Profile/relative_humidity_300hPa_['2019', '2020', '2021', '2022', '2023'].nc (343.5K)\n",
      "2024-07-01 17:09:40,063 INFO Download rate 139.8K/s\n"
     ]
    },
    {
     "name": "stdout",
     "output_type": "stream",
     "text": [
      "Downloading temperature at 300 hPa for ['2019', '2020', '2021', '2022', '2023']...\n"
     ]
    },
    {
     "name": "stderr",
     "output_type": "stream",
     "text": [
      "2024-07-01 17:09:40,514 INFO Welcome to the CDS\n",
      "2024-07-01 17:09:40,516 INFO Sending request to https://cds.climate.copernicus.eu/api/v2/resources/reanalysis-era5-pressure-levels\n",
      "2024-07-01 17:09:40,818 INFO Request is queued\n",
      "2024-07-01 17:09:46,239 INFO Request is running\n",
      "2024-07-01 22:28:29,994 INFO Request is completed\n",
      "2024-07-01 22:28:29,996 INFO Downloading https://download-0019.copernicus-climate.eu/cache-compute-0019/cache/data9/adaptor.mars.internal-1719883704.4044983-17850-14-3d1c5bae-94f5-4a4f-ac59-6ab23c382fac.nc to /media/edith/TOSHIBA EXT/Reanalysis_ERA5/Vertical_Profile/temperature_300hPa_['2019', '2020', '2021', '2022', '2023'].nc (6.9K)\n",
      "2024-07-01 22:28:37,642 INFO Download rate 925.2/s\n"
     ]
    },
    {
     "name": "stdout",
     "output_type": "stream",
     "text": [
      "Downloading u_component_of_wind at 300 hPa for ['2019', '2020', '2021', '2022', '2023']...\n"
     ]
    },
    {
     "name": "stderr",
     "output_type": "stream",
     "text": [
      "2024-07-01 22:28:38,278 INFO Welcome to the CDS\n",
      "2024-07-01 22:28:38,279 INFO Sending request to https://cds.climate.copernicus.eu/api/v2/resources/reanalysis-era5-pressure-levels\n",
      "2024-07-01 22:28:38,573 INFO Request is queued\n",
      "2024-07-01 22:28:52,928 INFO Request is running\n",
      "2024-07-02 00:27:58,391 INFO Request is completed\n",
      "2024-07-02 00:27:58,393 INFO Downloading https://download-0018.copernicus-climate.eu/cache-compute-0018/cache/data1/adaptor.mars.internal-1719890269.2291954-12967-5-0fdc9283-ce7d-412d-8018-debdbaa917da.nc to /media/edith/TOSHIBA EXT/Reanalysis_ERA5/Vertical_Profile/u_component_of_wind_300hPa_['2019', '2020', '2021', '2022', '2023'].nc (343.5K)\n",
      "2024-07-02 00:28:07,130 INFO Download rate 39.3K/s \n"
     ]
    },
    {
     "name": "stdout",
     "output_type": "stream",
     "text": [
      "Downloading v_component_of_wind at 300 hPa for ['2019', '2020', '2021', '2022', '2023']...\n"
     ]
    },
    {
     "name": "stderr",
     "output_type": "stream",
     "text": [
      "2024-07-02 00:28:07,663 INFO Welcome to the CDS\n",
      "2024-07-02 00:28:07,664 INFO Sending request to https://cds.climate.copernicus.eu/api/v2/resources/reanalysis-era5-pressure-levels\n",
      "2024-07-02 00:28:07,983 INFO Request is queued\n",
      "2024-07-02 00:28:22,322 INFO Request is running\n",
      "2024-07-02 01:41:01,246 INFO Request is completed\n",
      "2024-07-02 01:41:01,249 INFO Downloading https://download-0013-clone.copernicus-climate.eu/cache-compute-0013/cache/data5/adaptor.mars.internal-1719894852.7031782-903-1-835bb446-43b6-46f2-acf6-193a4ea61249.nc to /media/edith/TOSHIBA EXT/Reanalysis_ERA5/Vertical_Profile/v_component_of_wind_300hPa_['2019', '2020', '2021', '2022', '2023'].nc (343.5K)\n",
      "2024-07-02 01:41:03,880 INFO Download rate 130.6K/s\n"
     ]
    },
    {
     "name": "stdout",
     "output_type": "stream",
     "text": [
      "Downloading specific_humidity at 300 hPa for ['2019', '2020', '2021', '2022', '2023']...\n"
     ]
    },
    {
     "name": "stderr",
     "output_type": "stream",
     "text": [
      "2024-07-02 01:41:10,320 INFO Welcome to the CDS\n",
      "2024-07-02 01:41:10,322 INFO Sending request to https://cds.climate.copernicus.eu/api/v2/resources/reanalysis-era5-pressure-levels\n",
      "2024-07-02 01:41:10,645 INFO Request is queued\n",
      "2024-07-02 01:42:01,741 INFO Request is running\n",
      "2024-07-02 02:41:59,286 INFO Request is completed\n",
      "2024-07-02 02:41:59,287 INFO Downloading https://download-0017.copernicus-climate.eu/cache-compute-0017/cache/data1/adaptor.mars.internal-1719898476.0524094-6879-11-2b34af2c-2fef-4d69-b853-830dc4e6902d.nc to /media/edith/TOSHIBA EXT/Reanalysis_ERA5/Vertical_Profile/specific_humidity_300hPa_['2019', '2020', '2021', '2022', '2023'].nc (343.5K)\n",
      "2024-07-02 02:42:02,097 INFO Download rate 122.4K/s\n"
     ]
    },
    {
     "name": "stdout",
     "output_type": "stream",
     "text": [
      "Downloading geopotential at 200 hPa for ['1999', '2000', '2001', '2002', '2003']...\n",
      "File /media/edith/TOSHIBA EXT/Reanalysis_ERA5/Vertical_Profile/geopotential_200hPa_['1999', '2000', '2001', '2002', '2003'].nc already exists. Skipping...\n",
      "Downloading relative_humidity at 200 hPa for ['1999', '2000', '2001', '2002', '2003']...\n",
      "File /media/edith/TOSHIBA EXT/Reanalysis_ERA5/Vertical_Profile/relative_humidity_200hPa_['1999', '2000', '2001', '2002', '2003'].nc already exists. Skipping...\n",
      "Downloading temperature at 200 hPa for ['1999', '2000', '2001', '2002', '2003']...\n",
      "File /media/edith/TOSHIBA EXT/Reanalysis_ERA5/Vertical_Profile/temperature_200hPa_['1999', '2000', '2001', '2002', '2003'].nc already exists. Skipping...\n",
      "Downloading u_component_of_wind at 200 hPa for ['1999', '2000', '2001', '2002', '2003']...\n",
      "File /media/edith/TOSHIBA EXT/Reanalysis_ERA5/Vertical_Profile/u_component_of_wind_200hPa_['1999', '2000', '2001', '2002', '2003'].nc already exists. Skipping...\n",
      "Downloading v_component_of_wind at 200 hPa for ['1999', '2000', '2001', '2002', '2003']...\n",
      "File /media/edith/TOSHIBA EXT/Reanalysis_ERA5/Vertical_Profile/v_component_of_wind_200hPa_['1999', '2000', '2001', '2002', '2003'].nc already exists. Skipping...\n",
      "Downloading specific_humidity at 200 hPa for ['1999', '2000', '2001', '2002', '2003']...\n",
      "File /media/edith/TOSHIBA EXT/Reanalysis_ERA5/Vertical_Profile/specific_humidity_200hPa_['1999', '2000', '2001', '2002', '2003'].nc already exists. Skipping...\n",
      "Downloading geopotential at 200 hPa for ['2004', '2005', '2006', '2007', '2008']...\n",
      "File /media/edith/TOSHIBA EXT/Reanalysis_ERA5/Vertical_Profile/geopotential_200hPa_['2004', '2005', '2006', '2007', '2008'].nc already exists. Skipping...\n",
      "Downloading relative_humidity at 200 hPa for ['2004', '2005', '2006', '2007', '2008']...\n",
      "File /media/edith/TOSHIBA EXT/Reanalysis_ERA5/Vertical_Profile/relative_humidity_200hPa_['2004', '2005', '2006', '2007', '2008'].nc already exists. Skipping...\n",
      "Downloading temperature at 200 hPa for ['2004', '2005', '2006', '2007', '2008']...\n",
      "File /media/edith/TOSHIBA EXT/Reanalysis_ERA5/Vertical_Profile/temperature_200hPa_['2004', '2005', '2006', '2007', '2008'].nc already exists. Skipping...\n",
      "Downloading u_component_of_wind at 200 hPa for ['2004', '2005', '2006', '2007', '2008']...\n",
      "File /media/edith/TOSHIBA EXT/Reanalysis_ERA5/Vertical_Profile/u_component_of_wind_200hPa_['2004', '2005', '2006', '2007', '2008'].nc already exists. Skipping...\n",
      "Downloading v_component_of_wind at 200 hPa for ['2004', '2005', '2006', '2007', '2008']...\n",
      "File /media/edith/TOSHIBA EXT/Reanalysis_ERA5/Vertical_Profile/v_component_of_wind_200hPa_['2004', '2005', '2006', '2007', '2008'].nc already exists. Skipping...\n",
      "Downloading specific_humidity at 200 hPa for ['2004', '2005', '2006', '2007', '2008']...\n",
      "File /media/edith/TOSHIBA EXT/Reanalysis_ERA5/Vertical_Profile/specific_humidity_200hPa_['2004', '2005', '2006', '2007', '2008'].nc already exists. Skipping...\n",
      "Downloading geopotential at 200 hPa for ['2009', '2010', '2011', '2012', '2013']...\n",
      "File /media/edith/TOSHIBA EXT/Reanalysis_ERA5/Vertical_Profile/geopotential_200hPa_['2009', '2010', '2011', '2012', '2013'].nc already exists. Skipping...\n",
      "Downloading relative_humidity at 200 hPa for ['2009', '2010', '2011', '2012', '2013']...\n",
      "File /media/edith/TOSHIBA EXT/Reanalysis_ERA5/Vertical_Profile/relative_humidity_200hPa_['2009', '2010', '2011', '2012', '2013'].nc already exists. Skipping...\n",
      "Downloading temperature at 200 hPa for ['2009', '2010', '2011', '2012', '2013']...\n",
      "File /media/edith/TOSHIBA EXT/Reanalysis_ERA5/Vertical_Profile/temperature_200hPa_['2009', '2010', '2011', '2012', '2013'].nc already exists. Skipping...\n",
      "Downloading u_component_of_wind at 200 hPa for ['2009', '2010', '2011', '2012', '2013']...\n",
      "File /media/edith/TOSHIBA EXT/Reanalysis_ERA5/Vertical_Profile/u_component_of_wind_200hPa_['2009', '2010', '2011', '2012', '2013'].nc already exists. Skipping...\n",
      "Downloading v_component_of_wind at 200 hPa for ['2009', '2010', '2011', '2012', '2013']...\n",
      "File /media/edith/TOSHIBA EXT/Reanalysis_ERA5/Vertical_Profile/v_component_of_wind_200hPa_['2009', '2010', '2011', '2012', '2013'].nc already exists. Skipping...\n",
      "Downloading specific_humidity at 200 hPa for ['2009', '2010', '2011', '2012', '2013']...\n",
      "File /media/edith/TOSHIBA EXT/Reanalysis_ERA5/Vertical_Profile/specific_humidity_200hPa_['2009', '2010', '2011', '2012', '2013'].nc already exists. Skipping...\n",
      "Downloading geopotential at 200 hPa for ['2014', '2015', '2016', '2017', '2018']...\n",
      "File /media/edith/TOSHIBA EXT/Reanalysis_ERA5/Vertical_Profile/geopotential_200hPa_['2014', '2015', '2016', '2017', '2018'].nc already exists. Skipping...\n",
      "Downloading relative_humidity at 200 hPa for ['2014', '2015', '2016', '2017', '2018']...\n",
      "File /media/edith/TOSHIBA EXT/Reanalysis_ERA5/Vertical_Profile/relative_humidity_200hPa_['2014', '2015', '2016', '2017', '2018'].nc already exists. Skipping...\n",
      "Downloading temperature at 200 hPa for ['2014', '2015', '2016', '2017', '2018']...\n",
      "File /media/edith/TOSHIBA EXT/Reanalysis_ERA5/Vertical_Profile/temperature_200hPa_['2014', '2015', '2016', '2017', '2018'].nc already exists. Skipping...\n",
      "Downloading u_component_of_wind at 200 hPa for ['2014', '2015', '2016', '2017', '2018']...\n",
      "File /media/edith/TOSHIBA EXT/Reanalysis_ERA5/Vertical_Profile/u_component_of_wind_200hPa_['2014', '2015', '2016', '2017', '2018'].nc already exists. Skipping...\n",
      "Downloading v_component_of_wind at 200 hPa for ['2014', '2015', '2016', '2017', '2018']...\n",
      "File /media/edith/TOSHIBA EXT/Reanalysis_ERA5/Vertical_Profile/v_component_of_wind_200hPa_['2014', '2015', '2016', '2017', '2018'].nc already exists. Skipping...\n",
      "Downloading specific_humidity at 200 hPa for ['2014', '2015', '2016', '2017', '2018']...\n",
      "File /media/edith/TOSHIBA EXT/Reanalysis_ERA5/Vertical_Profile/specific_humidity_200hPa_['2014', '2015', '2016', '2017', '2018'].nc already exists. Skipping...\n",
      "Downloading geopotential at 200 hPa for ['2019', '2020', '2021', '2022', '2023']...\n",
      "File /media/edith/TOSHIBA EXT/Reanalysis_ERA5/Vertical_Profile/geopotential_200hPa_['2019', '2020', '2021', '2022', '2023'].nc already exists. Skipping...\n",
      "Downloading relative_humidity at 200 hPa for ['2019', '2020', '2021', '2022', '2023']...\n"
     ]
    },
    {
     "name": "stderr",
     "output_type": "stream",
     "text": [
      "2024-07-02 02:42:07,785 INFO Welcome to the CDS\n",
      "2024-07-02 02:42:07,787 INFO Sending request to https://cds.climate.copernicus.eu/api/v2/resources/reanalysis-era5-pressure-levels\n",
      "2024-07-02 02:42:08,399 INFO Request is queued\n",
      "2024-07-02 02:42:10,256 INFO Request is running\n",
      "2024-07-02 03:45:06,974 INFO Request is completed\n",
      "2024-07-02 03:45:06,975 INFO Downloading https://download-0014-clone.copernicus-climate.eu/cache-compute-0014/cache/data5/adaptor.mars.internal-1719902116.3882983-27260-14-72c29f49-f5fd-49e8-9fc4-970179ea725d.nc to /media/edith/TOSHIBA EXT/Reanalysis_ERA5/Vertical_Profile/relative_humidity_200hPa_['2019', '2020', '2021', '2022', '2023'].nc (343.5K)\n",
      "2024-07-02 03:45:10,174 INFO Download rate 107.4K/s\n"
     ]
    },
    {
     "name": "stdout",
     "output_type": "stream",
     "text": [
      "Downloading temperature at 200 hPa for ['2019', '2020', '2021', '2022', '2023']...\n"
     ]
    },
    {
     "name": "stderr",
     "output_type": "stream",
     "text": [
      "2024-07-02 03:45:10,761 INFO Welcome to the CDS\n",
      "2024-07-02 03:45:10,763 INFO Sending request to https://cds.climate.copernicus.eu/api/v2/resources/reanalysis-era5-pressure-levels\n",
      "2024-07-02 03:45:11,089 INFO Request is queued\n",
      "2024-07-02 04:01:39,852 INFO Request is running\n",
      "2024-07-02 05:08:20,472 INFO Request is completed\n",
      "2024-07-02 05:08:20,475 INFO Downloading https://download-0015-clone.copernicus-climate.eu/cache-compute-0015/cache/data2/adaptor.mars.internal-1719907047.8846285-16505-8-082d3468-334e-41b0-ad77-f3bf2ec5ea6c.nc to /media/edith/TOSHIBA EXT/Reanalysis_ERA5/Vertical_Profile/temperature_200hPa_['2019', '2020', '2021', '2022', '2023'].nc (343.5K)\n",
      "2024-07-02 05:08:29,820 INFO Download rate 36.8K/s \n"
     ]
    },
    {
     "name": "stdout",
     "output_type": "stream",
     "text": [
      "Downloading u_component_of_wind at 200 hPa for ['2019', '2020', '2021', '2022', '2023']...\n"
     ]
    },
    {
     "name": "stderr",
     "output_type": "stream",
     "text": [
      "2024-07-02 05:08:30,275 INFO Welcome to the CDS\n",
      "2024-07-02 05:08:30,276 INFO Sending request to https://cds.climate.copernicus.eu/api/v2/resources/reanalysis-era5-pressure-levels\n",
      "2024-07-02 05:08:30,610 INFO Request is queued\n",
      "2024-07-02 06:19:31,910 INFO Request is running\n",
      "2024-07-02 07:26:11,477 INFO Request is completed\n",
      "2024-07-02 07:26:11,479 INFO Downloading https://download-0012-clone.copernicus-climate.eu/cache-compute-0012/cache/data1/adaptor.mars.internal-1719915521.6851144-23048-8-2be797c5-3483-4cfc-905f-a76e44af1078.nc to /media/edith/TOSHIBA EXT/Reanalysis_ERA5/Vertical_Profile/u_component_of_wind_200hPa_['2019', '2020', '2021', '2022', '2023'].nc (343.5K)\n",
      "2024-07-02 07:26:14,165 INFO Download rate 128K/s  \n"
     ]
    },
    {
     "name": "stdout",
     "output_type": "stream",
     "text": [
      "Downloading v_component_of_wind at 200 hPa for ['2019', '2020', '2021', '2022', '2023']...\n"
     ]
    },
    {
     "name": "stderr",
     "output_type": "stream",
     "text": [
      "2024-07-02 07:26:14,736 INFO Welcome to the CDS\n",
      "2024-07-02 07:26:14,737 INFO Sending request to https://cds.climate.copernicus.eu/api/v2/resources/reanalysis-era5-pressure-levels\n",
      "2024-07-02 07:26:15,044 INFO Request is queued\n",
      "2024-07-02 07:32:38,225 INFO Request is running\n",
      "2024-07-02 14:20:43,243 INFO Request is completed\n",
      "2024-07-02 14:20:43,245 INFO Downloading https://download-0011-clone.copernicus-climate.eu/cache-compute-0011/cache/data8/adaptor.mars.internal-1719940377.152763-24292-10-c0233b4e-3f11-4050-ab7a-4141b7ea5988.nc to /media/edith/TOSHIBA EXT/Reanalysis_ERA5/Vertical_Profile/v_component_of_wind_200hPa_['2019', '2020', '2021', '2022', '2023'].nc (343.5K)\n",
      "2024-07-02 14:20:46,424 INFO Download rate 108.1K/s\n"
     ]
    },
    {
     "name": "stdout",
     "output_type": "stream",
     "text": [
      "Downloading specific_humidity at 200 hPa for ['2019', '2020', '2021', '2022', '2023']...\n"
     ]
    },
    {
     "name": "stderr",
     "output_type": "stream",
     "text": [
      "2024-07-02 14:20:47,646 INFO Welcome to the CDS\n",
      "2024-07-02 14:20:47,647 INFO Sending request to https://cds.climate.copernicus.eu/api/v2/resources/reanalysis-era5-pressure-levels\n",
      "2024-07-02 14:20:47,962 INFO Request is queued\n",
      "2024-07-02 15:27:46,590 INFO Request is running\n",
      "2024-07-02 18:25:31,883 INFO Request is completed\n",
      "2024-07-02 18:25:31,885 INFO Downloading https://download-0005-clone.copernicus-climate.eu/cache-compute-0005/cache/data9/adaptor.mars.internal-1719955423.029715-28227-5-f5d27220-fa01-4f69-9176-a44966a81b52.nc to /media/edith/TOSHIBA EXT/Reanalysis_ERA5/Vertical_Profile/specific_humidity_200hPa_['2019', '2020', '2021', '2022', '2023'].nc (109.7K)\n",
      "2024-07-02 18:25:34,247 INFO Download rate 46.5K/s \n"
     ]
    },
    {
     "name": "stdout",
     "output_type": "stream",
     "text": [
      "Downloading geopotential at 100 hPa for ['1999', '2000', '2001', '2002', '2003']...\n",
      "File /media/edith/TOSHIBA EXT/Reanalysis_ERA5/Vertical_Profile/geopotential_100hPa_['1999', '2000', '2001', '2002', '2003'].nc already exists. Skipping...\n",
      "Downloading relative_humidity at 100 hPa for ['1999', '2000', '2001', '2002', '2003']...\n",
      "File /media/edith/TOSHIBA EXT/Reanalysis_ERA5/Vertical_Profile/relative_humidity_100hPa_['1999', '2000', '2001', '2002', '2003'].nc already exists. Skipping...\n",
      "Downloading temperature at 100 hPa for ['1999', '2000', '2001', '2002', '2003']...\n",
      "File /media/edith/TOSHIBA EXT/Reanalysis_ERA5/Vertical_Profile/temperature_100hPa_['1999', '2000', '2001', '2002', '2003'].nc already exists. Skipping...\n",
      "Downloading u_component_of_wind at 100 hPa for ['1999', '2000', '2001', '2002', '2003']...\n",
      "File /media/edith/TOSHIBA EXT/Reanalysis_ERA5/Vertical_Profile/u_component_of_wind_100hPa_['1999', '2000', '2001', '2002', '2003'].nc already exists. Skipping...\n",
      "Downloading v_component_of_wind at 100 hPa for ['1999', '2000', '2001', '2002', '2003']...\n",
      "File /media/edith/TOSHIBA EXT/Reanalysis_ERA5/Vertical_Profile/v_component_of_wind_100hPa_['1999', '2000', '2001', '2002', '2003'].nc already exists. Skipping...\n",
      "Downloading specific_humidity at 100 hPa for ['1999', '2000', '2001', '2002', '2003']...\n",
      "File /media/edith/TOSHIBA EXT/Reanalysis_ERA5/Vertical_Profile/specific_humidity_100hPa_['1999', '2000', '2001', '2002', '2003'].nc already exists. Skipping...\n",
      "Downloading geopotential at 100 hPa for ['2004', '2005', '2006', '2007', '2008']...\n",
      "File /media/edith/TOSHIBA EXT/Reanalysis_ERA5/Vertical_Profile/geopotential_100hPa_['2004', '2005', '2006', '2007', '2008'].nc already exists. Skipping...\n",
      "Downloading relative_humidity at 100 hPa for ['2004', '2005', '2006', '2007', '2008']...\n",
      "File /media/edith/TOSHIBA EXT/Reanalysis_ERA5/Vertical_Profile/relative_humidity_100hPa_['2004', '2005', '2006', '2007', '2008'].nc already exists. Skipping...\n",
      "Downloading temperature at 100 hPa for ['2004', '2005', '2006', '2007', '2008']...\n",
      "File /media/edith/TOSHIBA EXT/Reanalysis_ERA5/Vertical_Profile/temperature_100hPa_['2004', '2005', '2006', '2007', '2008'].nc already exists. Skipping...\n",
      "Downloading u_component_of_wind at 100 hPa for ['2004', '2005', '2006', '2007', '2008']...\n",
      "File /media/edith/TOSHIBA EXT/Reanalysis_ERA5/Vertical_Profile/u_component_of_wind_100hPa_['2004', '2005', '2006', '2007', '2008'].nc already exists. Skipping...\n",
      "Downloading v_component_of_wind at 100 hPa for ['2004', '2005', '2006', '2007', '2008']...\n",
      "File /media/edith/TOSHIBA EXT/Reanalysis_ERA5/Vertical_Profile/v_component_of_wind_100hPa_['2004', '2005', '2006', '2007', '2008'].nc already exists. Skipping...\n",
      "Downloading specific_humidity at 100 hPa for ['2004', '2005', '2006', '2007', '2008']...\n",
      "File /media/edith/TOSHIBA EXT/Reanalysis_ERA5/Vertical_Profile/specific_humidity_100hPa_['2004', '2005', '2006', '2007', '2008'].nc already exists. Skipping...\n",
      "Downloading geopotential at 100 hPa for ['2009', '2010', '2011', '2012', '2013']...\n",
      "File /media/edith/TOSHIBA EXT/Reanalysis_ERA5/Vertical_Profile/geopotential_100hPa_['2009', '2010', '2011', '2012', '2013'].nc already exists. Skipping...\n",
      "Downloading relative_humidity at 100 hPa for ['2009', '2010', '2011', '2012', '2013']...\n",
      "File /media/edith/TOSHIBA EXT/Reanalysis_ERA5/Vertical_Profile/relative_humidity_100hPa_['2009', '2010', '2011', '2012', '2013'].nc already exists. Skipping...\n",
      "Downloading temperature at 100 hPa for ['2009', '2010', '2011', '2012', '2013']...\n",
      "File /media/edith/TOSHIBA EXT/Reanalysis_ERA5/Vertical_Profile/temperature_100hPa_['2009', '2010', '2011', '2012', '2013'].nc already exists. Skipping...\n",
      "Downloading u_component_of_wind at 100 hPa for ['2009', '2010', '2011', '2012', '2013']...\n",
      "File /media/edith/TOSHIBA EXT/Reanalysis_ERA5/Vertical_Profile/u_component_of_wind_100hPa_['2009', '2010', '2011', '2012', '2013'].nc already exists. Skipping...\n",
      "Downloading v_component_of_wind at 100 hPa for ['2009', '2010', '2011', '2012', '2013']...\n",
      "File /media/edith/TOSHIBA EXT/Reanalysis_ERA5/Vertical_Profile/v_component_of_wind_100hPa_['2009', '2010', '2011', '2012', '2013'].nc already exists. Skipping...\n",
      "Downloading specific_humidity at 100 hPa for ['2009', '2010', '2011', '2012', '2013']...\n",
      "File /media/edith/TOSHIBA EXT/Reanalysis_ERA5/Vertical_Profile/specific_humidity_100hPa_['2009', '2010', '2011', '2012', '2013'].nc already exists. Skipping...\n",
      "Downloading geopotential at 100 hPa for ['2014', '2015', '2016', '2017', '2018']...\n",
      "File /media/edith/TOSHIBA EXT/Reanalysis_ERA5/Vertical_Profile/geopotential_100hPa_['2014', '2015', '2016', '2017', '2018'].nc already exists. Skipping...\n",
      "Downloading relative_humidity at 100 hPa for ['2014', '2015', '2016', '2017', '2018']...\n",
      "File /media/edith/TOSHIBA EXT/Reanalysis_ERA5/Vertical_Profile/relative_humidity_100hPa_['2014', '2015', '2016', '2017', '2018'].nc already exists. Skipping...\n",
      "Downloading temperature at 100 hPa for ['2014', '2015', '2016', '2017', '2018']...\n",
      "File /media/edith/TOSHIBA EXT/Reanalysis_ERA5/Vertical_Profile/temperature_100hPa_['2014', '2015', '2016', '2017', '2018'].nc already exists. Skipping...\n",
      "Downloading u_component_of_wind at 100 hPa for ['2014', '2015', '2016', '2017', '2018']...\n",
      "File /media/edith/TOSHIBA EXT/Reanalysis_ERA5/Vertical_Profile/u_component_of_wind_100hPa_['2014', '2015', '2016', '2017', '2018'].nc already exists. Skipping...\n",
      "Downloading v_component_of_wind at 100 hPa for ['2014', '2015', '2016', '2017', '2018']...\n",
      "File /media/edith/TOSHIBA EXT/Reanalysis_ERA5/Vertical_Profile/v_component_of_wind_100hPa_['2014', '2015', '2016', '2017', '2018'].nc already exists. Skipping...\n",
      "Downloading specific_humidity at 100 hPa for ['2014', '2015', '2016', '2017', '2018']...\n",
      "File /media/edith/TOSHIBA EXT/Reanalysis_ERA5/Vertical_Profile/specific_humidity_100hPa_['2014', '2015', '2016', '2017', '2018'].nc already exists. Skipping...\n",
      "Downloading geopotential at 100 hPa for ['2019', '2020', '2021', '2022', '2023']...\n",
      "File /media/edith/TOSHIBA EXT/Reanalysis_ERA5/Vertical_Profile/geopotential_100hPa_['2019', '2020', '2021', '2022', '2023'].nc already exists. Skipping...\n",
      "Downloading relative_humidity at 100 hPa for ['2019', '2020', '2021', '2022', '2023']...\n"
     ]
    },
    {
     "name": "stderr",
     "output_type": "stream",
     "text": [
      "2024-07-02 18:25:40,952 INFO Welcome to the CDS\n",
      "2024-07-02 18:25:40,954 INFO Sending request to https://cds.climate.copernicus.eu/api/v2/resources/reanalysis-era5-pressure-levels\n",
      "2024-07-02 18:25:41,240 INFO Request is queued\n",
      "2024-07-02 18:25:46,833 INFO Request is running\n",
      "2024-07-02 19:30:40,330 INFO Request is completed\n",
      "2024-07-02 19:30:40,333 INFO Downloading https://download-0000-clone.copernicus-climate.eu/cache-compute-0000/cache/data1/adaptor.mars.internal-1719958929.0819402-29942-3-a625e4a4-ef72-4bd6-9e5d-a423d48e25ab.nc to /media/edith/TOSHIBA EXT/Reanalysis_ERA5/Vertical_Profile/relative_humidity_100hPa_['2019', '2020', '2021', '2022', '2023'].nc (343.5K)\n",
      "2024-07-02 19:30:49,657 INFO Download rate 36.8K/s \n"
     ]
    },
    {
     "name": "stdout",
     "output_type": "stream",
     "text": [
      "Downloading temperature at 100 hPa for ['2019', '2020', '2021', '2022', '2023']...\n"
     ]
    },
    {
     "name": "stderr",
     "output_type": "stream",
     "text": [
      "2024-07-02 19:30:50,262 INFO Welcome to the CDS\n",
      "2024-07-02 19:30:50,262 INFO Sending request to https://cds.climate.copernicus.eu/api/v2/resources/reanalysis-era5-pressure-levels\n",
      "2024-07-02 19:30:50,570 INFO Request is queued\n",
      "2024-07-02 19:31:13,100 INFO Request is running\n",
      "2024-07-02 20:33:48,203 INFO Request is completed\n",
      "2024-07-02 20:33:48,205 INFO Downloading https://download-0020.copernicus-climate.eu/cache-compute-0020/cache/data1/adaptor.mars.internal-1719962744.1997194-12495-8-f4e68d87-43a3-4936-ba2c-22e0eb2dd253.nc to /media/edith/TOSHIBA EXT/Reanalysis_ERA5/Vertical_Profile/temperature_100hPa_['2019', '2020', '2021', '2022', '2023'].nc (343.5K)\n",
      "2024-07-02 20:33:51,709 INFO Download rate 98.1K/s \n"
     ]
    },
    {
     "name": "stdout",
     "output_type": "stream",
     "text": [
      "Downloading u_component_of_wind at 100 hPa for ['2019', '2020', '2021', '2022', '2023']...\n"
     ]
    },
    {
     "name": "stderr",
     "output_type": "stream",
     "text": [
      "2024-07-02 20:33:52,297 INFO Welcome to the CDS\n",
      "2024-07-02 20:33:52,299 INFO Sending request to https://cds.climate.copernicus.eu/api/v2/resources/reanalysis-era5-pressure-levels\n",
      "2024-07-02 20:33:52,605 INFO Request is queued\n",
      "2024-07-02 20:34:44,218 INFO Request is running\n",
      "2024-07-02 21:48:56,651 INFO Request is completed\n",
      "2024-07-02 21:48:56,653 INFO Downloading https://download-0001-clone.copernicus-climate.eu/cache-compute-0001/cache/data9/adaptor.mars.internal-1719967309.4580584-17261-16-646cf816-0128-4177-aa98-40e52713b0e0.nc to /media/edith/TOSHIBA EXT/Reanalysis_ERA5/Vertical_Profile/u_component_of_wind_100hPa_['2019', '2020', '2021', '2022', '2023'].nc (343.5K)\n",
      "2024-07-02 21:48:59,607 INFO Download rate 116.4K/s\n"
     ]
    },
    {
     "name": "stdout",
     "output_type": "stream",
     "text": [
      "Downloading v_component_of_wind at 100 hPa for ['2019', '2020', '2021', '2022', '2023']...\n"
     ]
    },
    {
     "name": "stderr",
     "output_type": "stream",
     "text": [
      "2024-07-02 21:49:00,127 INFO Welcome to the CDS\n",
      "2024-07-02 21:49:00,128 INFO Sending request to https://cds.climate.copernicus.eu/api/v2/resources/reanalysis-era5-pressure-levels\n",
      "2024-07-02 21:49:00,541 INFO Request is queued\n",
      "2024-07-02 21:49:15,596 INFO Request is running\n",
      "2024-07-02 22:51:58,079 INFO Request is completed\n",
      "2024-07-02 22:51:58,081 INFO Downloading https://download-0020.copernicus-climate.eu/cache-compute-0020/cache/data7/adaptor.mars.internal-1719971075.739925-6039-7-833a1c93-50f5-4a5b-801f-3dfa7a13bcbb.nc to /media/edith/TOSHIBA EXT/Reanalysis_ERA5/Vertical_Profile/v_component_of_wind_100hPa_['2019', '2020', '2021', '2022', '2023'].nc (343.5K)\n",
      "2024-07-02 22:52:01,388 INFO Download rate 103.9K/s\n"
     ]
    },
    {
     "name": "stdout",
     "output_type": "stream",
     "text": [
      "Downloading specific_humidity at 100 hPa for ['2019', '2020', '2021', '2022', '2023']...\n"
     ]
    },
    {
     "name": "stderr",
     "output_type": "stream",
     "text": [
      "2024-07-02 22:52:01,969 INFO Welcome to the CDS\n",
      "2024-07-02 22:52:01,971 INFO Sending request to https://cds.climate.copernicus.eu/api/v2/resources/reanalysis-era5-pressure-levels\n",
      "2024-07-02 22:52:02,257 INFO Request is queued\n",
      "2024-07-02 23:02:27,845 INFO Request is running\n",
      "2024-07-03 00:07:06,302 INFO Request is completed\n",
      "2024-07-03 00:07:06,304 INFO Downloading https://download-0009-clone.copernicus-climate.eu/cache-compute-0009/cache/data8/adaptor.mars.internal-1719975463.935866-30183-13-a47ba17d-e4c0-4f49-9815-a1fcb9c7000b.nc to /media/edith/TOSHIBA EXT/Reanalysis_ERA5/Vertical_Profile/specific_humidity_100hPa_['2019', '2020', '2021', '2022', '2023'].nc (343.5K)\n",
      "2024-07-03 00:07:09,223 INFO Download rate 117.7K/s\n"
     ]
    },
    {
     "name": "stdout",
     "output_type": "stream",
     "text": [
      "Downloading geopotential at 1 hPa for ['1999', '2000', '2001', '2002', '2003']...\n",
      "File /media/edith/TOSHIBA EXT/Reanalysis_ERA5/Vertical_Profile/geopotential_1hPa_['1999', '2000', '2001', '2002', '2003'].nc already exists. Skipping...\n",
      "Downloading relative_humidity at 1 hPa for ['1999', '2000', '2001', '2002', '2003']...\n",
      "File /media/edith/TOSHIBA EXT/Reanalysis_ERA5/Vertical_Profile/relative_humidity_1hPa_['1999', '2000', '2001', '2002', '2003'].nc already exists. Skipping...\n",
      "Downloading temperature at 1 hPa for ['1999', '2000', '2001', '2002', '2003']...\n",
      "File /media/edith/TOSHIBA EXT/Reanalysis_ERA5/Vertical_Profile/temperature_1hPa_['1999', '2000', '2001', '2002', '2003'].nc already exists. Skipping...\n",
      "Downloading u_component_of_wind at 1 hPa for ['1999', '2000', '2001', '2002', '2003']...\n",
      "File /media/edith/TOSHIBA EXT/Reanalysis_ERA5/Vertical_Profile/u_component_of_wind_1hPa_['1999', '2000', '2001', '2002', '2003'].nc already exists. Skipping...\n",
      "Downloading v_component_of_wind at 1 hPa for ['1999', '2000', '2001', '2002', '2003']...\n",
      "File /media/edith/TOSHIBA EXT/Reanalysis_ERA5/Vertical_Profile/v_component_of_wind_1hPa_['1999', '2000', '2001', '2002', '2003'].nc already exists. Skipping...\n",
      "Downloading specific_humidity at 1 hPa for ['1999', '2000', '2001', '2002', '2003']...\n",
      "File /media/edith/TOSHIBA EXT/Reanalysis_ERA5/Vertical_Profile/specific_humidity_1hPa_['1999', '2000', '2001', '2002', '2003'].nc already exists. Skipping...\n",
      "Downloading geopotential at 1 hPa for ['2004', '2005', '2006', '2007', '2008']...\n",
      "File /media/edith/TOSHIBA EXT/Reanalysis_ERA5/Vertical_Profile/geopotential_1hPa_['2004', '2005', '2006', '2007', '2008'].nc already exists. Skipping...\n",
      "Downloading relative_humidity at 1 hPa for ['2004', '2005', '2006', '2007', '2008']...\n",
      "File /media/edith/TOSHIBA EXT/Reanalysis_ERA5/Vertical_Profile/relative_humidity_1hPa_['2004', '2005', '2006', '2007', '2008'].nc already exists. Skipping...\n",
      "Downloading temperature at 1 hPa for ['2004', '2005', '2006', '2007', '2008']...\n",
      "File /media/edith/TOSHIBA EXT/Reanalysis_ERA5/Vertical_Profile/temperature_1hPa_['2004', '2005', '2006', '2007', '2008'].nc already exists. Skipping...\n",
      "Downloading u_component_of_wind at 1 hPa for ['2004', '2005', '2006', '2007', '2008']...\n",
      "File /media/edith/TOSHIBA EXT/Reanalysis_ERA5/Vertical_Profile/u_component_of_wind_1hPa_['2004', '2005', '2006', '2007', '2008'].nc already exists. Skipping...\n",
      "Downloading v_component_of_wind at 1 hPa for ['2004', '2005', '2006', '2007', '2008']...\n",
      "File /media/edith/TOSHIBA EXT/Reanalysis_ERA5/Vertical_Profile/v_component_of_wind_1hPa_['2004', '2005', '2006', '2007', '2008'].nc already exists. Skipping...\n",
      "Downloading specific_humidity at 1 hPa for ['2004', '2005', '2006', '2007', '2008']...\n",
      "File /media/edith/TOSHIBA EXT/Reanalysis_ERA5/Vertical_Profile/specific_humidity_1hPa_['2004', '2005', '2006', '2007', '2008'].nc already exists. Skipping...\n",
      "Downloading geopotential at 1 hPa for ['2009', '2010', '2011', '2012', '2013']...\n",
      "File /media/edith/TOSHIBA EXT/Reanalysis_ERA5/Vertical_Profile/geopotential_1hPa_['2009', '2010', '2011', '2012', '2013'].nc already exists. Skipping...\n",
      "Downloading relative_humidity at 1 hPa for ['2009', '2010', '2011', '2012', '2013']...\n",
      "File /media/edith/TOSHIBA EXT/Reanalysis_ERA5/Vertical_Profile/relative_humidity_1hPa_['2009', '2010', '2011', '2012', '2013'].nc already exists. Skipping...\n",
      "Downloading temperature at 1 hPa for ['2009', '2010', '2011', '2012', '2013']...\n",
      "File /media/edith/TOSHIBA EXT/Reanalysis_ERA5/Vertical_Profile/temperature_1hPa_['2009', '2010', '2011', '2012', '2013'].nc already exists. Skipping...\n",
      "Downloading u_component_of_wind at 1 hPa for ['2009', '2010', '2011', '2012', '2013']...\n",
      "File /media/edith/TOSHIBA EXT/Reanalysis_ERA5/Vertical_Profile/u_component_of_wind_1hPa_['2009', '2010', '2011', '2012', '2013'].nc already exists. Skipping...\n",
      "Downloading v_component_of_wind at 1 hPa for ['2009', '2010', '2011', '2012', '2013']...\n",
      "File /media/edith/TOSHIBA EXT/Reanalysis_ERA5/Vertical_Profile/v_component_of_wind_1hPa_['2009', '2010', '2011', '2012', '2013'].nc already exists. Skipping...\n",
      "Downloading specific_humidity at 1 hPa for ['2009', '2010', '2011', '2012', '2013']...\n",
      "File /media/edith/TOSHIBA EXT/Reanalysis_ERA5/Vertical_Profile/specific_humidity_1hPa_['2009', '2010', '2011', '2012', '2013'].nc already exists. Skipping...\n",
      "Downloading geopotential at 1 hPa for ['2014', '2015', '2016', '2017', '2018']...\n",
      "File /media/edith/TOSHIBA EXT/Reanalysis_ERA5/Vertical_Profile/geopotential_1hPa_['2014', '2015', '2016', '2017', '2018'].nc already exists. Skipping...\n",
      "Downloading relative_humidity at 1 hPa for ['2014', '2015', '2016', '2017', '2018']...\n"
     ]
    },
    {
     "name": "stderr",
     "output_type": "stream",
     "text": [
      "2024-07-03 00:07:15,829 INFO Welcome to the CDS\n",
      "2024-07-03 00:07:15,830 INFO Sending request to https://cds.climate.copernicus.eu/api/v2/resources/reanalysis-era5-pressure-levels\n",
      "2024-07-03 00:07:16,342 INFO Request is queued\n",
      "2024-07-03 00:07:38,972 INFO Request is running\n",
      "2024-07-03 01:16:16,975 INFO Request is completed\n",
      "2024-07-03 01:16:16,976 INFO Downloading https://download-0011-clone.copernicus-climate.eu/cache-compute-0011/cache/data2/adaptor.mars.internal-1719979558.7727218-14963-13-96551afc-b446-4dde-90d5-123cfd570ba1.nc to /media/edith/TOSHIBA EXT/Reanalysis_ERA5/Vertical_Profile/relative_humidity_1hPa_['2014', '2015', '2016', '2017', '2018'].nc (343.5K)\n",
      "2024-07-03 01:16:19,939 INFO Download rate 116K/s  \n"
     ]
    },
    {
     "name": "stdout",
     "output_type": "stream",
     "text": [
      "Downloading temperature at 1 hPa for ['2014', '2015', '2016', '2017', '2018']...\n"
     ]
    },
    {
     "name": "stderr",
     "output_type": "stream",
     "text": [
      "2024-07-03 01:16:20,456 INFO Welcome to the CDS\n",
      "2024-07-03 01:16:20,457 INFO Sending request to https://cds.climate.copernicus.eu/api/v2/resources/reanalysis-era5-pressure-levels\n",
      "2024-07-03 01:16:20,841 INFO Request is queued\n",
      "2024-07-03 01:16:22,095 INFO Request is running\n",
      "2024-07-03 02:21:18,862 INFO Request is completed\n",
      "2024-07-03 02:21:18,864 INFO Downloading https://download-0006-clone.copernicus-climate.eu/cache-compute-0006/cache/data0/adaptor.mars.internal-1719983637.4159489-21869-18-ee8270ef-a71d-4e09-811b-c4f0e73beef3.nc to /media/edith/TOSHIBA EXT/Reanalysis_ERA5/Vertical_Profile/temperature_1hPa_['2014', '2015', '2016', '2017', '2018'].nc (343.5K)\n",
      "2024-07-03 02:21:21,798 INFO Download rate 117.2K/s\n"
     ]
    },
    {
     "name": "stdout",
     "output_type": "stream",
     "text": [
      "Downloading u_component_of_wind at 1 hPa for ['2014', '2015', '2016', '2017', '2018']...\n"
     ]
    },
    {
     "name": "stderr",
     "output_type": "stream",
     "text": [
      "2024-07-03 02:21:22,339 INFO Welcome to the CDS\n",
      "2024-07-03 02:21:22,340 INFO Sending request to https://cds.climate.copernicus.eu/api/v2/resources/reanalysis-era5-pressure-levels\n",
      "2024-07-03 02:21:22,852 INFO Request is queued\n",
      "2024-07-03 02:21:24,184 INFO Request is running\n",
      "2024-07-03 03:28:23,288 INFO Request is completed\n",
      "2024-07-03 03:28:23,290 INFO Downloading https://download-0004-clone.copernicus-climate.eu/cache-compute-0004/cache/data4/adaptor.mars.internal-1719987494.3150833-6437-20-9b43e1be-8ed6-4449-b9cf-bd5aedaf3a4b.nc to /media/edith/TOSHIBA EXT/Reanalysis_ERA5/Vertical_Profile/u_component_of_wind_1hPa_['2014', '2015', '2016', '2017', '2018'].nc (343.5K)\n",
      "2024-07-03 03:28:27,800 INFO Download rate 76.2K/s \n"
     ]
    },
    {
     "name": "stdout",
     "output_type": "stream",
     "text": [
      "Downloading v_component_of_wind at 1 hPa for ['2014', '2015', '2016', '2017', '2018']...\n",
      "File /media/edith/TOSHIBA EXT/Reanalysis_ERA5/Vertical_Profile/v_component_of_wind_1hPa_['2014', '2015', '2016', '2017', '2018'].nc already exists. Skipping...\n",
      "Downloading specific_humidity at 1 hPa for ['2014', '2015', '2016', '2017', '2018']...\n",
      "File /media/edith/TOSHIBA EXT/Reanalysis_ERA5/Vertical_Profile/specific_humidity_1hPa_['2014', '2015', '2016', '2017', '2018'].nc already exists. Skipping...\n",
      "Downloading geopotential at 1 hPa for ['2019', '2020', '2021', '2022', '2023']...\n",
      "File /media/edith/TOSHIBA EXT/Reanalysis_ERA5/Vertical_Profile/geopotential_1hPa_['2019', '2020', '2021', '2022', '2023'].nc already exists. Skipping...\n",
      "Downloading relative_humidity at 1 hPa for ['2019', '2020', '2021', '2022', '2023']...\n"
     ]
    },
    {
     "name": "stderr",
     "output_type": "stream",
     "text": [
      "2024-07-03 03:28:28,333 INFO Welcome to the CDS\n",
      "2024-07-03 03:28:28,335 INFO Sending request to https://cds.climate.copernicus.eu/api/v2/resources/reanalysis-era5-pressure-levels\n",
      "2024-07-03 03:28:28,677 INFO Request is queued\n",
      "2024-07-03 03:28:29,944 INFO Request is running\n",
      "2024-07-03 04:43:32,540 INFO Request is completed\n",
      "2024-07-03 04:43:32,541 INFO Downloading https://download-0003-clone.copernicus-climate.eu/cache-compute-0003/cache/data5/adaptor.mars.internal-1719992153.1727235-2138-18-7fcf5f35-54f6-4156-b7ed-0d8640f34912.nc to /media/edith/TOSHIBA EXT/Reanalysis_ERA5/Vertical_Profile/relative_humidity_1hPa_['2019', '2020', '2021', '2022', '2023'].nc (343.5K)\n",
      "2024-07-03 04:43:35,927 INFO Download rate 101.5K/s\n"
     ]
    },
    {
     "name": "stdout",
     "output_type": "stream",
     "text": [
      "Downloading temperature at 1 hPa for ['2019', '2020', '2021', '2022', '2023']...\n"
     ]
    },
    {
     "name": "stderr",
     "output_type": "stream",
     "text": [
      "2024-07-03 04:43:36,738 INFO Welcome to the CDS\n",
      "2024-07-03 04:43:36,740 INFO Sending request to https://cds.climate.copernicus.eu/api/v2/resources/reanalysis-era5-pressure-levels\n",
      "2024-07-03 04:43:37,048 INFO Request is queued\n",
      "2024-07-03 04:43:40,117 INFO Request is running\n",
      "2024-07-03 05:58:40,384 INFO Request is completed\n",
      "2024-07-03 05:58:40,386 INFO Downloading https://download-0005-clone.copernicus-climate.eu/cache-compute-0005/cache/data5/adaptor.mars.internal-1719996634.6674116-21134-2-2de6ea23-fbb5-4749-bd9c-9fabddca24e6.nc to /media/edith/TOSHIBA EXT/Reanalysis_ERA5/Vertical_Profile/temperature_1hPa_['2019', '2020', '2021', '2022', '2023'].nc (343.5K)\n",
      "2024-07-03 05:58:43,580 INFO Download rate 107.6K/s\n"
     ]
    },
    {
     "name": "stdout",
     "output_type": "stream",
     "text": [
      "Downloading u_component_of_wind at 1 hPa for ['2019', '2020', '2021', '2022', '2023']...\n"
     ]
    },
    {
     "name": "stderr",
     "output_type": "stream",
     "text": [
      "2024-07-03 05:58:44,173 INFO Welcome to the CDS\n",
      "2024-07-03 05:58:44,174 INFO Sending request to https://cds.climate.copernicus.eu/api/v2/resources/reanalysis-era5-pressure-levels\n",
      "2024-07-03 05:58:44,479 INFO Request is queued\n",
      "2024-07-03 05:58:47,551 INFO Request is running\n",
      "2024-07-03 07:05:45,121 INFO Request is completed\n",
      "2024-07-03 07:05:45,123 INFO Downloading https://download-0016.copernicus-climate.eu/cache-compute-0016/cache/data3/adaptor.mars.internal-1720000546.7623336-12177-7-f68a5b9d-c387-44dc-bd51-06e3d782b21c.nc to /media/edith/TOSHIBA EXT/Reanalysis_ERA5/Vertical_Profile/u_component_of_wind_1hPa_['2019', '2020', '2021', '2022', '2023'].nc (343.5K)\n",
      "2024-07-03 07:05:48,710 INFO Download rate 95.8K/s \n"
     ]
    },
    {
     "name": "stdout",
     "output_type": "stream",
     "text": [
      "Downloading v_component_of_wind at 1 hPa for ['2019', '2020', '2021', '2022', '2023']...\n"
     ]
    },
    {
     "name": "stderr",
     "output_type": "stream",
     "text": [
      "2024-07-03 07:05:49,319 INFO Welcome to the CDS\n",
      "2024-07-03 07:05:49,319 INFO Sending request to https://cds.climate.copernicus.eu/api/v2/resources/reanalysis-era5-pressure-levels\n",
      "2024-07-03 07:05:49,663 INFO Request is queued\n",
      "2024-07-03 07:46:32,966 INFO Request is running\n",
      "2024-07-03 08:49:10,459 INFO Request is completed\n",
      "2024-07-03 08:49:10,462 INFO Downloading https://download-0020.copernicus-climate.eu/cache-compute-0020/cache/data1/adaptor.mars.internal-1720006931.870759-1182-6-ecf9a56f-0bdd-4351-bd74-b33d13dfb931.nc to /media/edith/TOSHIBA EXT/Reanalysis_ERA5/Vertical_Profile/v_component_of_wind_1hPa_['2019', '2020', '2021', '2022', '2023'].nc (343.5K)\n",
      "2024-07-03 08:49:13,856 INFO Download rate 101.3K/s\n"
     ]
    },
    {
     "name": "stdout",
     "output_type": "stream",
     "text": [
      "Downloading specific_humidity at 1 hPa for ['2019', '2020', '2021', '2022', '2023']...\n"
     ]
    },
    {
     "name": "stderr",
     "output_type": "stream",
     "text": [
      "2024-07-03 08:49:14,455 INFO Welcome to the CDS\n",
      "2024-07-03 08:49:14,456 INFO Sending request to https://cds.climate.copernicus.eu/api/v2/resources/reanalysis-era5-pressure-levels\n",
      "2024-07-03 08:49:14,767 INFO Request is queued\n",
      "2024-07-03 08:49:17,832 INFO Request is running\n",
      "2024-07-03 09:58:15,341 INFO Request is completed\n",
      "2024-07-03 09:58:15,343 INFO Downloading https://download-0004-clone.copernicus-climate.eu/cache-compute-0004/cache/data6/adaptor.mars.internal-1720010905.8153527-558-16-0467dbb8-3490-45cf-9ecc-2c71d5b1a2a7.nc to /media/edith/TOSHIBA EXT/Reanalysis_ERA5/Vertical_Profile/specific_humidity_1hPa_['2019', '2020', '2021', '2022', '2023'].nc (343.5K)\n",
      "2024-07-03 09:58:18,039 INFO Download rate 127.5K/s\n"
     ]
    }
   ],
   "source": [
    "for i, pressure_level in enumerate(pressure_levels):\n",
    "    for j, year in enumerate(all_years):\n",
    "        for k, variable in enumerate(variables):\n",
    "            print(f\"Downloading {variable} at {pressure_level} hPa for {year}...\")\n",
    "            filename = f\"{out_path}/{variable}_{pressure_level}hPa_{year}.nc\"\n",
    "            if os.path.exists(filename):\n",
    "                print(f\"File {filename} already exists. Skipping...\")\n",
    "                continue\n",
    "            c = cdsapi.Client()\n",
    "\n",
    "            c.retrieve(\n",
    "                'reanalysis-era5-pressure-levels',\n",
    "                {\n",
    "                    'product_type': 'reanalysis',\n",
    "                    'format': 'netcdf',\n",
    "                    'variable': variable,\n",
    "                    'pressure_level': pressure_level,\n",
    "                    'year': year,\n",
    "                    'month': [\n",
    "                        '01', '02', '03',\n",
    "                        '04', '05', '06',\n",
    "                        '07', '08', '09',\n",
    "                        '10', '11', '12',\n",
    "                    ],\n",
    "                    'day': [\n",
    "                        '01', '02', '03',\n",
    "                        '04', '05', '06',\n",
    "                        '07', '08', '09',\n",
    "                        '10', '11', '12',\n",
    "                        '13', '14', '15',\n",
    "                        '16', '17', '18',\n",
    "                        '19', '20', '21',\n",
    "                        '22', '23', '24',\n",
    "                        '25', '26', '27',\n",
    "                        '28', '29', '30',\n",
    "                        '31',\n",
    "                    ],\n",
    "                    'time': [\n",
    "                        '00:00', '01:00', '02:00',\n",
    "                        '03:00', '04:00', '05:00',\n",
    "                        '06:00', '07:00', '08:00',\n",
    "                        '09:00', '10:00', '11:00',\n",
    "                        '12:00', '13:00', '14:00',\n",
    "                        '15:00', '16:00', '17:00',\n",
    "                        '18:00', '19:00', '20:00',\n",
    "                        '21:00', '22:00', '23:00',\n",
    "                    ],\n",
    "                    'area': [\n",
    "                        -22.33, -45.7, -22.65,\n",
    "                        -45.54,\n",
    "                    ],\n",
    "                },\n",
    "                filename)"
   ]
  }
 ],
 "metadata": {
  "kernelspec": {
   "display_name": "GSST",
   "language": "python",
   "name": "python3"
  },
  "language_info": {
   "codemirror_mode": {
    "name": "ipython",
    "version": 3
   },
   "file_extension": ".py",
   "mimetype": "text/x-python",
   "name": "python",
   "nbconvert_exporter": "python",
   "pygments_lexer": "ipython3",
   "version": "3.12.3"
  },
  "orig_nbformat": 4
 },
 "nbformat": 4,
 "nbformat_minor": 2
}
