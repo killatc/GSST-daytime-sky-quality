{
 "cells": [
  {
   "cell_type": "code",
   "execution_count": 1,
   "metadata": {},
   "outputs": [],
   "source": [
    "import cdsapi\n",
    "import os"
   ]
  },
  {
   "cell_type": "code",
   "execution_count": 2,
   "metadata": {},
   "outputs": [],
   "source": [
    "c = cdsapi.Client()"
   ]
  },
  {
   "cell_type": "code",
   "execution_count": 3,
   "metadata": {},
   "outputs": [],
   "source": [
    "#variable = '100m_u_component_of_wind'\n",
    "#variable = '100m_v_component_of_wind'\n",
    "#variable = '10m_u_component_of_neutral_wind'\n",
    "# variable = '10m_u_component_of_wind'\n",
    "# variable = '10m_v_component_of_wind'\n",
    "# variable = '2m_dewpoint_temperature'\n",
    "# variable = '2m_temperature'\n",
    "# variable = 'total_cloud_cover'"
   ]
  },
  {
   "cell_type": "code",
   "execution_count": 4,
   "metadata": {},
   "outputs": [],
   "source": [
    "years = ['2019', '2020', '2021', '2022', '2023']\n",
    "# years = ['2014', '2015', '2016', '2017', '2018']\n",
    "# years = ['2009', '2010', '2011', '2012', '2013']\n",
    "# years = ['2004', '2005', '2006', '2007', '2008']\n",
    "# years = ['1999', '2000', '2001', '2002', '2003']\n",
    "\n",
    "variables = [\n",
    "    # '100m_u_component_of_wind',\n",
    "    # '100m_v_component_of_wind',\n",
    "    # '10m_u_component_of_neutral_wind',\n",
    "    # '10m_u_component_of_wind',\n",
    "    # '10m_v_component_of_wind',\n",
    "    # '2m_dewpoint_temperature',\n",
    "    # '2m_temperature',\n",
    "    # 'total_cloud_cover'\n",
    "    # 'top_net_thermal_radiation',\n",
    "    # 'mean_sea_level_pressure',\n",
    "    'total_precipitation',\n",
    "]\n",
    "\n",
    "all_years = [\n",
    "    ['1999', '2000', '2001', '2002', '2003'],\n",
    "    ['2004', '2005', '2006', '2007', '2008'],\n",
    "    ['2009', '2010', '2011', '2012', '2013'],\n",
    "    ['2014', '2015', '2016', '2017', '2018'],\n",
    "    ['2019', '2020', '2021', '2022', '2023']\n",
    "]"
   ]
  },
  {
   "cell_type": "code",
   "execution_count": 5,
   "metadata": {},
   "outputs": [
    {
     "name": "stderr",
     "output_type": "stream",
     "text": [
      "2024-04-28 22:16:47,064 INFO Welcome to the CDS\n",
      "2024-04-28 22:16:47,066 INFO Sending request to https://cds.climate.copernicus.eu/api/v2/resources/reanalysis-era5-single-levels\n",
      "2024-04-28 22:16:47,420 INFO Request is queued\n",
      "2024-04-28 22:16:48,702 INFO Request is running\n",
      "2024-04-28 23:07:36,351 INFO Request is completed\n",
      "2024-04-28 23:07:36,353 INFO Downloading https://download-0011-clone.copernicus-climate.eu/cache-compute-0011/cache/data7/adaptor.mars.internal-1714355497.61883-7494-8-c95f0b71-196d-430c-83a9-be31bf083b50.nc to total_precipitation_1999_2003.nc (343.4K)\n",
      "2024-04-28 23:07:39,750 INFO Download rate 101.2K/s\n",
      "2024-04-28 23:07:40,343 INFO Welcome to the CDS\n",
      "2024-04-28 23:07:40,345 INFO Sending request to https://cds.climate.copernicus.eu/api/v2/resources/reanalysis-era5-single-levels\n",
      "2024-04-28 23:07:40,670 INFO Request is queued\n",
      "2024-04-28 23:07:41,983 INFO Request is running\n",
      "2024-04-28 23:58:30,356 INFO Request is completed\n",
      "2024-04-28 23:58:30,358 INFO Downloading https://download-0009-clone.copernicus-climate.eu/cache-compute-0009/cache/data9/adaptor.mars.internal-1714358598.1851468-28171-14-6383c020-1d0d-4be1-ab6b-e9c82be4edc6.nc to total_precipitation_2004_2008.nc (343.6K)\n",
      "2024-04-28 23:58:33,375 INFO Download rate 113.9K/s\n",
      "2024-04-28 23:58:33,968 INFO Welcome to the CDS\n",
      "2024-04-28 23:58:33,970 INFO Sending request to https://cds.climate.copernicus.eu/api/v2/resources/reanalysis-era5-single-levels\n",
      "2024-04-28 23:58:34,276 INFO Request is queued\n",
      "2024-04-28 23:58:35,630 INFO Request is running\n",
      "2024-04-29 00:49:25,316 INFO Request is completed\n",
      "2024-04-29 00:49:25,318 INFO Downloading https://download-0017.copernicus-climate.eu/cache-compute-0017/cache/data0/adaptor.mars.internal-1714361654.3507988-5178-1-95f9ec05-b368-4e95-82e2-f10cf0178c02.nc to total_precipitation_2009_2013.nc (343.4K)\n",
      "2024-04-29 00:49:28,361 INFO Download rate 113K/s  \n",
      "2024-04-29 00:49:28,901 INFO Welcome to the CDS\n",
      "2024-04-29 00:49:28,902 INFO Sending request to https://cds.climate.copernicus.eu/api/v2/resources/reanalysis-era5-single-levels\n",
      "2024-04-29 00:49:29,203 INFO Request is queued\n",
      "2024-04-29 00:49:30,539 INFO Request is running\n",
      "2024-04-29 01:40:19,788 INFO Request is completed\n",
      "2024-04-29 01:40:19,790 INFO Downloading https://download-0011-clone.copernicus-climate.eu/cache-compute-0011/cache/data9/adaptor.mars.internal-1714364783.0008252-2499-14-f4d2cddd-e3ec-4afd-be82-51f9602f6c54.nc to total_precipitation_2014_2018.nc (343.4K)\n",
      "2024-04-29 01:40:22,462 INFO Download rate 128.6K/s\n",
      "2024-04-29 01:40:23,064 INFO Welcome to the CDS\n",
      "2024-04-29 01:40:23,065 INFO Sending request to https://cds.climate.copernicus.eu/api/v2/resources/reanalysis-era5-single-levels\n",
      "2024-04-29 01:40:23,371 INFO Request is queued\n",
      "2024-04-29 01:40:24,688 INFO Request is running\n",
      "2024-04-29 02:29:12,561 INFO Request is completed\n",
      "2024-04-29 02:29:12,562 INFO Downloading https://download-0017.copernicus-climate.eu/cache-compute-0017/cache/data2/adaptor.mars.internal-1714367667.1546493-21289-18-ddf49b8a-dc4c-47b8-8a70-c496728684e8.nc to total_precipitation_2019_2023.nc (343.4K)\n",
      "2024-04-29 02:29:15,439 INFO Download rate 119.4K/s\n"
     ]
    }
   ],
   "source": [
    "for variable in variables:\n",
    "    for years in all_years:\n",
    "        filename_out = f'{variable}_{years[0]}_{years[-1]}.nc'\n",
    "        if os.path.exists(filename_out):\n",
    "            print(f'{filename_out} already exists')\n",
    "            continue\n",
    "\n",
    "        c.retrieve(\n",
    "            'reanalysis-era5-single-levels',\n",
    "            {\n",
    "                'product_type': 'reanalysis',\n",
    "                'format': 'netcdf',\n",
    "                'variable': [\n",
    "                    variable\n",
    "\n",
    "                ],\n",
    "                'year': years,\n",
    "                'month': [\n",
    "                    '01', '02', '03',\n",
    "                    '04', '05', '06',\n",
    "                    '07', '08', '09',\n",
    "                    '10', '11', '12',\n",
    "                ],\n",
    "                'day': [\n",
    "                    '01', '02', '03',\n",
    "                    '04', '05', '06',\n",
    "                    '07', '08', '09',\n",
    "                    '10', '11', '12',\n",
    "                    '13', '14', '15',\n",
    "                    '16', '17', '18',\n",
    "                    '19', '20', '21',\n",
    "                    '22', '23', '24',\n",
    "                    '25', '26', '27',\n",
    "                    '28', '29', '30',\n",
    "                    '31',\n",
    "                ],\n",
    "                'time': [\n",
    "                    '00:00', '01:00', '02:00',\n",
    "                    '03:00', '04:00', '05:00',\n",
    "                    '06:00', '07:00', '08:00',\n",
    "                    '09:00', '10:00', '11:00',\n",
    "                    '12:00', '13:00', '14:00',\n",
    "                    '15:00', '16:00', '17:00',\n",
    "                    '18:00', '19:00', '20:00',\n",
    "                    '21:00', '22:00', '23:00',\n",
    "                ],\n",
    "                'area': [\n",
    "                    -22.33, -45.7, -22.65,\n",
    "                    -45.54,\n",
    "                ],\n",
    "            },\n",
    "            filename_out)"
   ]
  },
  {
   "cell_type": "code",
   "execution_count": null,
   "metadata": {},
   "outputs": [],
   "source": []
  }
 ],
 "metadata": {
  "kernelspec": {
   "display_name": "GSST",
   "language": "python",
   "name": "python3"
  },
  "language_info": {
   "codemirror_mode": {
    "name": "ipython",
    "version": 3
   },
   "file_extension": ".py",
   "mimetype": "text/x-python",
   "name": "python",
   "nbconvert_exporter": "python",
   "pygments_lexer": "ipython3",
   "version": "3.12.3"
  },
  "orig_nbformat": 4
 },
 "nbformat": 4,
 "nbformat_minor": 2
}
