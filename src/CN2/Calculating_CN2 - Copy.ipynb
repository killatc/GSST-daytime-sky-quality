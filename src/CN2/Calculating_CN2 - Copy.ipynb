{
 "cells": [
  {
   "cell_type": "code",
   "execution_count": 12,
   "metadata": {},
   "outputs": [],
   "source": [
    "import pandas as pd\n",
    "import numpy as np\n",
    "import matplotlib.pyplot as plt\n",
    "from scipy.signal import welch"
   ]
  },
  {
   "cell_type": "code",
   "execution_count": 2,
   "metadata": {},
   "outputs": [
    {
     "data": {
      "text/html": [
       "<div>\n",
       "<style scoped>\n",
       "    .dataframe tbody tr th:only-of-type {\n",
       "        vertical-align: middle;\n",
       "    }\n",
       "\n",
       "    .dataframe tbody tr th {\n",
       "        vertical-align: top;\n",
       "    }\n",
       "\n",
       "    .dataframe thead th {\n",
       "        text-align: right;\n",
       "    }\n",
       "</style>\n",
       "<table border=\"1\" class=\"dataframe\">\n",
       "  <thead>\n",
       "    <tr style=\"text-align: right;\">\n",
       "      <th></th>\n",
       "      <th>time</th>\n",
       "      <th>pressure_level</th>\n",
       "      <th>altitude</th>\n",
       "      <th>temperature</th>\n",
       "      <th>relative_humidity</th>\n",
       "      <th>specific_humidity</th>\n",
       "      <th>u</th>\n",
       "      <th>v</th>\n",
       "      <th>wind_speed</th>\n",
       "      <th>d2m</th>\n",
       "      <th>...</th>\n",
       "      <th>msl</th>\n",
       "      <th>tp</th>\n",
       "      <th>v10</th>\n",
       "      <th>u10</th>\n",
       "      <th>v100</th>\n",
       "      <th>u100</th>\n",
       "      <th>ttr</th>\n",
       "      <th>tcc</th>\n",
       "      <th>wind_speed_10</th>\n",
       "      <th>wind_speed_100</th>\n",
       "    </tr>\n",
       "  </thead>\n",
       "  <tbody>\n",
       "    <tr>\n",
       "      <th>0</th>\n",
       "      <td>1998-12-31 21:00:00</td>\n",
       "      <td>1</td>\n",
       "      <td>58373.873278</td>\n",
       "      <td>266.782809</td>\n",
       "      <td>0.000164</td>\n",
       "      <td>0.000004</td>\n",
       "      <td>-53.115034</td>\n",
       "      <td>-1.046399</td>\n",
       "      <td>53.125341</td>\n",
       "      <td>291.047976</td>\n",
       "      <td>...</td>\n",
       "      <td>101323.855318</td>\n",
       "      <td>0.000109</td>\n",
       "      <td>0.648034</td>\n",
       "      <td>-1.475597</td>\n",
       "      <td>1.009022</td>\n",
       "      <td>-2.811511</td>\n",
       "      <td>-873001.839211</td>\n",
       "      <td>0.495752</td>\n",
       "      <td>1.611625</td>\n",
       "      <td>2.987092</td>\n",
       "    </tr>\n",
       "    <tr>\n",
       "      <th>1</th>\n",
       "      <td>1998-12-31 22:00:00</td>\n",
       "      <td>1</td>\n",
       "      <td>58377.070499</td>\n",
       "      <td>266.133571</td>\n",
       "      <td>0.000173</td>\n",
       "      <td>0.000004</td>\n",
       "      <td>-56.079982</td>\n",
       "      <td>4.207988</td>\n",
       "      <td>56.237634</td>\n",
       "      <td>291.102855</td>\n",
       "      <td>...</td>\n",
       "      <td>101362.271230</td>\n",
       "      <td>0.000055</td>\n",
       "      <td>-0.232797</td>\n",
       "      <td>-1.384500</td>\n",
       "      <td>-0.376840</td>\n",
       "      <td>-2.811511</td>\n",
       "      <td>-876066.526497</td>\n",
       "      <td>0.638490</td>\n",
       "      <td>1.403935</td>\n",
       "      <td>2.836653</td>\n",
       "    </tr>\n",
       "    <tr>\n",
       "      <th>2</th>\n",
       "      <td>1998-12-31 23:00:00</td>\n",
       "      <td>1</td>\n",
       "      <td>58378.955239</td>\n",
       "      <td>266.425400</td>\n",
       "      <td>0.000167</td>\n",
       "      <td>0.000004</td>\n",
       "      <td>-59.579416</td>\n",
       "      <td>11.225047</td>\n",
       "      <td>60.627622</td>\n",
       "      <td>291.094585</td>\n",
       "      <td>...</td>\n",
       "      <td>101384.923973</td>\n",
       "      <td>0.000068</td>\n",
       "      <td>-0.927978</td>\n",
       "      <td>-0.960242</td>\n",
       "      <td>-1.950172</td>\n",
       "      <td>-2.811511</td>\n",
       "      <td>-904910.642133</td>\n",
       "      <td>0.667170</td>\n",
       "      <td>1.335368</td>\n",
       "      <td>3.421661</td>\n",
       "    </tr>\n",
       "    <tr>\n",
       "      <th>3</th>\n",
       "      <td>1999-01-01 00:00:00</td>\n",
       "      <td>1</td>\n",
       "      <td>58377.803403</td>\n",
       "      <td>265.834933</td>\n",
       "      <td>0.000179</td>\n",
       "      <td>0.000004</td>\n",
       "      <td>-61.247199</td>\n",
       "      <td>15.127236</td>\n",
       "      <td>63.087659</td>\n",
       "      <td>290.857967</td>\n",
       "      <td>...</td>\n",
       "      <td>101371.079419</td>\n",
       "      <td>0.000055</td>\n",
       "      <td>-1.210370</td>\n",
       "      <td>-0.514787</td>\n",
       "      <td>-2.980013</td>\n",
       "      <td>0.348545</td>\n",
       "      <td>-854472.070282</td>\n",
       "      <td>0.655588</td>\n",
       "      <td>1.315296</td>\n",
       "      <td>3.000327</td>\n",
       "    </tr>\n",
       "    <tr>\n",
       "      <th>4</th>\n",
       "      <td>1999-01-01 01:00:00</td>\n",
       "      <td>1</td>\n",
       "      <td>58371.907529</td>\n",
       "      <td>264.006273</td>\n",
       "      <td>0.000209</td>\n",
       "      <td>0.000004</td>\n",
       "      <td>-63.268755</td>\n",
       "      <td>15.352730</td>\n",
       "      <td>65.104851</td>\n",
       "      <td>290.804592</td>\n",
       "      <td>...</td>\n",
       "      <td>101300.243267</td>\n",
       "      <td>0.000035</td>\n",
       "      <td>-1.281291</td>\n",
       "      <td>-0.089466</td>\n",
       "      <td>-3.089207</td>\n",
       "      <td>0.348545</td>\n",
       "      <td>-833740.362168</td>\n",
       "      <td>0.716397</td>\n",
       "      <td>1.284411</td>\n",
       "      <td>3.108807</td>\n",
       "    </tr>\n",
       "  </tbody>\n",
       "</table>\n",
       "<p>5 rows × 21 columns</p>\n",
       "</div>"
      ],
      "text/plain": [
       "                  time  pressure_level      altitude  temperature  \\\n",
       "0  1998-12-31 21:00:00               1  58373.873278   266.782809   \n",
       "1  1998-12-31 22:00:00               1  58377.070499   266.133571   \n",
       "2  1998-12-31 23:00:00               1  58378.955239   266.425400   \n",
       "3  1999-01-01 00:00:00               1  58377.803403   265.834933   \n",
       "4  1999-01-01 01:00:00               1  58371.907529   264.006273   \n",
       "\n",
       "   relative_humidity  specific_humidity          u          v  wind_speed  \\\n",
       "0           0.000164           0.000004 -53.115034  -1.046399   53.125341   \n",
       "1           0.000173           0.000004 -56.079982   4.207988   56.237634   \n",
       "2           0.000167           0.000004 -59.579416  11.225047   60.627622   \n",
       "3           0.000179           0.000004 -61.247199  15.127236   63.087659   \n",
       "4           0.000209           0.000004 -63.268755  15.352730   65.104851   \n",
       "\n",
       "          d2m  ...            msl        tp       v10       u10      v100  \\\n",
       "0  291.047976  ...  101323.855318  0.000109  0.648034 -1.475597  1.009022   \n",
       "1  291.102855  ...  101362.271230  0.000055 -0.232797 -1.384500 -0.376840   \n",
       "2  291.094585  ...  101384.923973  0.000068 -0.927978 -0.960242 -1.950172   \n",
       "3  290.857967  ...  101371.079419  0.000055 -1.210370 -0.514787 -2.980013   \n",
       "4  290.804592  ...  101300.243267  0.000035 -1.281291 -0.089466 -3.089207   \n",
       "\n",
       "       u100            ttr       tcc  wind_speed_10  wind_speed_100  \n",
       "0 -2.811511 -873001.839211  0.495752       1.611625        2.987092  \n",
       "1 -2.811511 -876066.526497  0.638490       1.403935        2.836653  \n",
       "2 -2.811511 -904910.642133  0.667170       1.335368        3.421661  \n",
       "3  0.348545 -854472.070282  0.655588       1.315296        3.000327  \n",
       "4  0.348545 -833740.362168  0.716397       1.284411        3.108807  \n",
       "\n",
       "[5 rows x 21 columns]"
      ]
     },
     "execution_count": 2,
     "metadata": {},
     "output_type": "execute_result"
    }
   ],
   "source": [
    "df = pd.read_csv(\"../../data/processed/ERA5_Full_Dataset.csv\")\n",
    "df.head()"
   ]
  },
  {
   "cell_type": "code",
   "execution_count": 24,
   "metadata": {},
   "outputs": [],
   "source": [
    "def calculate_psd(time_series, sampling_frequency=1):\n",
    "    \"\"\" Calcular a densidade espectral de potência de uma série temporal. \"\"\"\n",
    "    frequencies, psd_values = welch(time_series, fs=sampling_frequency, nperseg=1024)\n",
    "    return frequencies, psd_values\n",
    "\n",
    "\n",
    "def identify_frequencies(psd_values, frequencies):\n",
    "    \"\"\" Identificar f_L, f_l, f_t com base na análise da PSD. \"\"\"\n",
    "    # Este é um exemplo simplificado. Você deve adaptar este método para seu caso específico.\n",
    "    f_L = frequencies[np.argmax(psd_values)]  # Exemplo: pico mais baixo de frequência\n",
    "    f_l = frequencies[-1]  # Frequência mais alta disponível\n",
    "    f_t = frequencies[len(frequencies) // 2]  # Frequência média\n",
    "    return f_L, f_l, f_t\n",
    "\n",
    "def calculate_E_fL(freqs, psd, fL):\n",
    "    return np.trapz(psd[freqs <= fL], freqs[freqs <= fL])"
   ]
  },
  {
   "cell_type": "code",
   "execution_count": 41,
   "metadata": {},
   "outputs": [
    {
     "name": "stdout",
     "output_type": "stream",
     "text": [
      "f_L: 0.0009765625 Hz, f_l: 0.5 Hz, f_t: 0.25 Hz\n"
     ]
    }
   ],
   "source": [
    "pressure_level = 1\n",
    "variable = 'temperature'\n",
    "\n",
    "aux_df = df[df['pressure_level'] == pressure_level]\n",
    "variable_pressure_level = aux_df[variable].values - 273.15\n",
    "\n",
    "# Calculating PSD and identifying f_L, f_l, f_t\n",
    "frequencies, psd_values = calculate_psd(variable_pressure_level)\n",
    "f_L, f_l, f_t = identify_frequencies(psd_values, frequencies)\n",
    "print(f\"f_L: {f_L} Hz, f_l: {f_l} Hz, f_t: {f_t} Hz\")"
   ]
  },
  {
   "cell_type": "code",
   "execution_count": 33,
   "metadata": {},
   "outputs": [
    {
     "data": {
      "image/png": "[encoded data removed]",
      "text/plain": [
       "<Figure size 640x480 with 1 Axes>"
      ]
     },
     "metadata": {},
     "output_type": "display_data"
    }
   ],
   "source": [
    "# plot the PSD\n",
    "fig, ax = plt.subplots()\n",
    "\n",
    "ax.plot(frequencies, psd_values)\n",
    "ax.set_xlabel('Frequência [Hz]')\n",
    "ax.set_ylabel('Densidade Espectral de Potência')\n",
    "ax.set_title('PSD do Vento a 1 hPa')\n",
    "\n",
    "ax.axvline(f_L, color='r', linestyle='--', label='f_L')\n",
    "ax.axvline(f_l, color='g', linestyle='--', label='f_l')\n",
    "ax.axvline(f_t, color='b', linestyle='--', label='f_t')\n",
    "\n",
    "#plot a marker and line at the peak of f_L, f_l, f_t\n",
    "f_L_idx = np.argmax(psd_values)\n",
    "f_l_idx = -1\n",
    "f_t_idx = len(frequencies) // 2\n",
    "\n",
    "marker_values = [psd_values[f_L_idx], psd_values[f_t_idx], psd_values[f_l_idx]]\n",
    "marker_frequencies = [frequencies[f_L_idx], frequencies[f_t_idx], frequencies[f_l_idx]]\n",
    "\n",
    "ax.scatter(marker_frequencies, marker_values, color='black', zorder=5)\n",
    "ax.plot(marker_frequencies, marker_values, color='black', zorder=5)\n",
    "\n",
    "ax.set_yscale('log')\n",
    "# ax.set_xscale('log')\n"
   ]
  },
  {
   "cell_type": "code",
   "execution_count": 34,
   "metadata": {},
   "outputs": [
    {
     "name": "stdout",
     "output_type": "stream",
     "text": [
      "E(f_L): 0.6067797309487293\n"
     ]
    }
   ],
   "source": [
    "# Integrates the PSD up to f_L\n",
    "E_fL = calculate_E_fL(frequencies, psd_values, f_L)\n",
    "print(f\"E(f_L): {E_fL}\")"
   ]
  },
  {
   "cell_type": "markdown",
   "metadata": {},
   "source": [
    "### Equation CN2 index\n",
    "\n",
    "$$\n",
    "C_n^2(z) = \\left(\\frac{A P(z)}{\\langle T \\rangle^2(z)}\\right)^2 \\cdot \\frac{E(fL,z)exp(-3(ln\\frac{ft}{fL})-\\frac{5}{3}(ln\\frac{fl}{ft}))}{0.125} \\cdot fl^{5/3}\n",
    "$$"
   ]
  },
  {
   "cell_type": "code",
   "execution_count": 40,
   "metadata": {},
   "outputs": [],
   "source": [
    "def calculate_cn2(A, P, T, fL, fl, ft, E_fL):\n",
    "    term1 = ((A*P)/(T**2))**2\n",
    "    term2 = (E_fL*np.exp(-3*np.log(ft/fL)*(-5/3)*np.log(fl/fL)))/(0.125)\n",
    "    term3 = fl**(-5/3)\n",
    "\n",
    "    return term1*term2*term3"
   ]
  },
  {
   "cell_type": "code",
   "execution_count": 42,
   "metadata": {},
   "outputs": [
    {
     "name": "stdout",
     "output_type": "stream",
     "text": [
      "cn2: 2.7375561580540775e-50\n"
     ]
    }
   ],
   "source": [
    "A = (80*10**-60)/pressure_level\n",
    "P = pressure_level\n",
    "T = aux_df['temperature'].mean()\n",
    "fL = f_L\n",
    "fl = f_l\n",
    "ft = f_t\n",
    "E_fL = E_fL\n",
    "\n",
    "cn2 = calculate_cn2(A, P, T, fL, fl, ft, E_fL)\n",
    "print(f\"cn2: {cn2}\")"
   ]
  }
 ],
 "metadata": {
  "kernelspec": {
   "display_name": "ds",
   "language": "python",
   "name": "python3"
  },
  "language_info": {
   "codemirror_mode": {
    "name": "ipython",
    "version": 3
   },
   "file_extension": ".py",
   "mimetype": "text/x-python",
   "name": "python",
   "nbconvert_exporter": "python",
   "pygments_lexer": "ipython3",
   "version": "3.12.2"
  }
 },
 "nbformat": 4,
 "nbformat_minor": 2
}
